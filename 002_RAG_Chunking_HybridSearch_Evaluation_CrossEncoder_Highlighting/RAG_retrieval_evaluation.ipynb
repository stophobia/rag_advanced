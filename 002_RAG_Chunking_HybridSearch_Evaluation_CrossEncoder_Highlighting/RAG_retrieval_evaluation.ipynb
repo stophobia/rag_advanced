{
 "cells": [
  {
   "cell_type": "code",
   "execution_count": 1,
   "metadata": {},
   "outputs": [
    {
     "data": {
      "text/plain": [
       "True"
      ]
     },
     "execution_count": 1,
     "metadata": {},
     "output_type": "execute_result"
    }
   ],
   "source": [
    "from dotenv import load_dotenv\n",
    "load_dotenv()"
   ]
  },
  {
   "cell_type": "markdown",
   "metadata": {},
   "source": [
    "## 문서 로드"
   ]
  },
  {
   "cell_type": "code",
   "execution_count": 2,
   "metadata": {},
   "outputs": [
    {
     "name": "stdout",
     "output_type": "stream",
     "text": [
      "1\n"
     ]
    }
   ],
   "source": [
    "from langchain.document_loaders import TextLoader\n",
    "from langchain.schema import Document\n",
    "\n",
    "# 메뉴판 텍스트 데이터를 로드\n",
    "loader = TextLoader(\"./data/restaurant_menu.txt\", encoding=\"utf-8\")\n",
    "documents = loader.load()\n",
    "\n",
    "print(len(documents))"
   ]
  },
  {
   "cell_type": "code",
   "execution_count": 3,
   "metadata": {},
   "outputs": [
    {
     "data": {
      "text/plain": [
       "Document(metadata={'source': './data/restaurant_menu.txt'}, page_content='1. 시그니처 스테이크\\n   • 가격: ₩35,000\\n   • 주요 식재료: 최상급 한우 등심, 로즈메리 감자, 그릴드 아스파라거스\\n   • 설명: 셰프의 특제 시그니처 메뉴로, 21일간 건조 숙성한 최상급 한우 등심을 사용합니다. 미디엄 레어로 조리하여 육즙을 최대한 보존하며, 로즈메리 향의 감자와 아삭한 그릴드 아스파라거스가 곁들여집니다. 레드와인 소스와 함께 제공되어 풍부한 맛을 더합니다.\\n\\n2. 트러플 리조또\\n   • 가격: ₩22,000\\n   • 주요 식재료: 이탈리아산 아르보리오 쌀, 블랙 트러플, 파르미지아노 레지아노 치즈\\n   • 설명: 크리미한 텍스처의 리조또에 고급 블랙 트러플을 듬뿍 얹어 풍부한 향과 맛을 즐길 수 있는 메뉴입니다. 24개월 숙성된 파르미지아노 레지아노 치즈를 사용하여 깊은 맛을 더했으며, 주문 즉시 조리하여 최상의 상태로 제공됩니다.\\n\\n3. 연어 타르타르\\n   • 가격: ₩18,000\\n   • 주요 식재료: 노르웨이산 생연어, 아보카도, 케이퍼, 적양파\\n   • 설명: 신선한 노르웨이산 생연어를 곱게 다져 아보카도, 케이퍼, 적양파와 함께 섞어 만든 타르타르입니다. 레몬 드레싱으로 상큼한 맛을 더했으며, 바삭한 브리오쉬 토스트와 함께 제공됩니다. 전채요리로 완벽한 메뉴입니다.\\n\\n4. 버섯 크림 수프\\n   • 가격: ₩10,000\\n   • 주요 식재료: 양송이버섯, 표고버섯, 생크림, 트러플 오일\\n   • 설명: 양송이버섯과 표고버섯을 오랜 시간 정성스레 끓여 만든 크림 수프입니다. 부드러운 텍스처와 깊은 버섯 향이 특징이며, 최상급 트러플 오일을 살짝 뿌려 고급스러운 향을 더했습니다. 파슬리를 곱게 다져 고명으로 올려 제공됩니다.\\n\\n5. 가든 샐러드\\n   • 가격: ₩12,000\\n   • 주요 식재료: 유기농 믹스 그린, 체리 토마토, 오이, 당근, 발사믹 드레싱\\n   • 설명: 신선한 유기농 채소들로 구성된 건강한 샐러드입니다. 아삭한 식감의 믹스 그린에 달콤한 체리 토마토, 오이, 당근을 더해 다양한 맛과 식감을 즐길 수 있습니다. 특제 발사믹 드레싱이 채소 본연의 맛을 살려줍니다.\\n\\n6. 해산물 파스타\\n   • 가격: ₩24,000\\n   • 주요 식재료: 링귀네 파스타, 새우, 홍합, 오징어, 토마토 소스\\n   • 설명: 알 덴테로 삶은 링귀네 파스타에 신선한 해산물을 듬뿍 올린 메뉴입니다. 토마토 소스의 산미와 해산물의 감칠맛이 조화를 이루며, 마늘과 올리브 오일로 풍미를 더했습니다. 파슬리를 뿌려 향긋한 맛을 더합니다.\\n\\n7. 랍스터 비스크\\n   • 가격: ₩28,000\\n   • 주요 식재료: 랍스터, 생크림, 브랜디, 파프리카\\n   • 설명: 랍스터 껍질과 육수로 오랜 시간 우려낸 진한 비스크 수프입니다. 생크림으로 부드러운 질감을 더하고 브랜디로 깊은 풍미를 살렸습니다. 작은 랍스터 살을 토핑으로 올려 고급스러움을 더했습니다.\\n\\n8. 안심 스테이크 샐러드\\n   • 가격: ₩26,000\\n   • 주요 식재료: 소고기 안심, 루꼴라, 체리 토마토, 발사믹 글레이즈\\n   • 설명: 부드러운 안심 스테이크를 얇게 슬라이스하여 신선한 루꼴라 위에 올린 메인 요리 샐러드입니다. 체리 토마토와 파마산 치즈 플레이크로 풍미를 더하고, 발사믹 글레이즈로 마무리하여 고기의 풍미를 한층 끌어올렸습니다.\\n\\n9. 치킨 콘피\\n   • 가격: ₩23,000\\n   • 주요 식재료: 닭다리살, 허브, 마늘, 올리브 오일\\n   • 설명: 닭다리살을 허브와 마늘을 넣은 올리브 오일에 저온에서 장시간 조리한 프랑스 요리입니다. 부드럽고 촉촉한 육질이 특징이며, 로즈메리 감자와 제철 채소를 곁들여 제공합니다. 레몬 제스트를 뿌려 상큼한 향을 더했습니다.\\n\\n10. 티라미수\\n    • 가격: ₩9,000\\n    • 주요 식재료: 마스카포네 치즈, 에스프레소, 카카오 파우더, 레이디핑거 비스킷\\n    • 설명: 부드러운 마스카포네 치즈 크림과 에스프레소에 적신 레이디핑거 비스킷을 층층이 쌓아 만든 이탈리아 정통 디저트입니다. 고소한 카카오 파우더를 듬뿍 뿌려 풍미를 더했습니다. 커피의 쌉싸름함과 치즈의 부드러움이 조화롭게 어우러집니다.')"
      ]
     },
     "execution_count": 3,
     "metadata": {},
     "output_type": "execute_result"
    }
   ],
   "source": [
    "documents[0]"
   ]
  },
  {
   "cell_type": "markdown",
   "metadata": {},
   "source": [
    "## 문서 분할 (Chunking)"
   ]
  },
  {
   "cell_type": "code",
   "execution_count": 4,
   "metadata": {},
   "outputs": [
    {
     "name": "stdout",
     "output_type": "stream",
     "text": [
      "총 10개의 메뉴 항목이 처리되었습니다.\n",
      "\n",
      "메뉴 번호: 1\n",
      "메뉴 이름: 시그니처 스테이크\n",
      "내용:\n",
      "1. 시그니처 스테이크\n",
      "   • 가격: ₩35,000\n",
      "   • 주요 식재료: 최상급 한우 등심, 로즈메리 감자, 그릴드 아스파라거스\n",
      "   • 설명: 셰프의 특제 시그니처 메뉴로, ...\n",
      "\n",
      "메뉴 번호: 2\n",
      "메뉴 이름: 트러플 리조또\n",
      "내용:\n",
      "2. 트러플 리조또\n",
      "   • 가격: ₩22,000\n",
      "   • 주요 식재료: 이탈리아산 아르보리오 쌀, 블랙 트러플, 파르미지아노 레지아노 치즈\n",
      "   • 설명: 크리미한 텍스처의 리조...\n"
     ]
    }
   ],
   "source": [
    "import re\n",
    "from langchain_core.documents import Document\n",
    "\n",
    "def split_menu_items(document):\n",
    "    # 메뉴 항목을 분리하기 위한 정규 표현식\n",
    "    pattern = r'(\\d+\\.\\s.*?)(?=\\n\\n\\d+\\.|$)'\n",
    "    \n",
    "    # 전체 텍스트에서 메뉴 항목 분리\n",
    "    menu_items = re.findall(pattern, document.page_content, re.DOTALL)\n",
    "    \n",
    "    # 각 메뉴 항목을 Document 객체로 변환\n",
    "    menu_documents = []\n",
    "    for i, item in enumerate(menu_items, 1):\n",
    "        # 메뉴 이름 추출\n",
    "        menu_name = item.split('\\n')[0].split('.', 1)[1].strip()\n",
    "        \n",
    "        # 새로운 Document 객체 생성\n",
    "        menu_doc = Document(\n",
    "            page_content=item.strip(),\n",
    "            metadata={\n",
    "                \"source\": document.metadata['source'],\n",
    "                \"menu_number\": i,\n",
    "                \"menu_name\": menu_name\n",
    "            }\n",
    "        )\n",
    "        menu_documents.append(menu_doc)\n",
    "    \n",
    "    return menu_documents\n",
    "\n",
    "\n",
    "# 메뉴 항목 분리 실행\n",
    "menu_documents = []\n",
    "for doc in documents:\n",
    "    menu_documents += split_menu_items(doc)\n",
    "\n",
    "# 결과 출력\n",
    "print(f\"총 {len(menu_documents)}개의 메뉴 항목이 처리되었습니다.\")\n",
    "for doc in menu_documents[:2]:\n",
    "    print(f\"\\n메뉴 번호: {doc.metadata['menu_number']}\")\n",
    "    print(f\"메뉴 이름: {doc.metadata['menu_name']}\")\n",
    "    print(f\"내용:\\n{doc.page_content[:100]}...\")"
   ]
  },
  {
   "cell_type": "markdown",
   "metadata": {},
   "source": [
    "## 문서 임베딩"
   ]
  },
  {
   "cell_type": "code",
   "execution_count": 5,
   "metadata": {},
   "outputs": [],
   "source": [
    "from langchain_community.vectorstores import Chroma\n",
    "from langchain_openai import OpenAIEmbeddings\n",
    "\n",
    "# OpenAI Embeddings 모델 로드\n",
    "embeddings_model = OpenAIEmbeddings(model=\"text-embedding-3-small\")\n",
    "\n",
    "# 유클리드 거리를 사용하는 Chroma 인덱스 생성\n",
    "db_chroma = Chroma.from_documents(\n",
    "    documents=menu_documents, \n",
    "    embedding=embeddings_model,   \n",
    "    collection_name=\"restaurant_menu_openai_db\",\n",
    "    persist_directory=\"./chroma_db\",\n",
    ")"
   ]
  },
  {
   "cell_type": "code",
   "execution_count": 6,
   "metadata": {},
   "outputs": [
    {
     "name": "stdout",
     "output_type": "stream",
     "text": [
      "검색 결과 (L2 거리): 3개\n",
      "메뉴 번호: 8\n",
      "메뉴 이름: 안심 스테이크 샐러드\n",
      "메뉴 번호: 1\n",
      "메뉴 이름: 시그니처 스테이크\n",
      "메뉴 번호: 7\n",
      "메뉴 이름: 랍스터 비스크\n"
     ]
    }
   ],
   "source": [
    "# 검색기 초기화 (k=3)\n",
    "\n",
    "retriever_chroma = db_chroma.as_retriever(\n",
    "    search_kwargs = {\"k\": 3}\n",
    ")\n",
    "\n",
    "# 검색 실행\n",
    "query = \"스테이크 메뉴를 추천해주세요\"\n",
    "docs = retriever_chroma.invoke(query)\n",
    "print(f\"검색 결과 (L2 거리): {len(docs)}개\")\n",
    "\n",
    "for doc in docs:\n",
    "    print(f\"메뉴 번호: {doc.metadata['menu_number']}\")\n",
    "    print(f\"메뉴 이름: {doc.metadata['menu_name']}\")"
   ]
  },
  {
   "cell_type": "code",
   "execution_count": 7,
   "metadata": {},
   "outputs": [
    {
     "name": "stdout",
     "output_type": "stream",
     "text": [
      "검색 결과 (BM25): 3개\n",
      "메뉴 번호: 8\n",
      "메뉴 이름: 안심 스테이크 샐러드\n",
      "메뉴 번호: 5\n",
      "메뉴 이름: 가든 샐러드\n",
      "메뉴 번호: 1\n",
      "메뉴 이름: 시그니처 스테이크\n"
     ]
    }
   ],
   "source": [
    "from krag.tokenizers import KiwiTokenizer\n",
    "from krag.retrievers import KiWiBM25RetrieverWithScore\n",
    "\n",
    "# BM25 검색기 초기화 (k=3)\n",
    "retriever_bm25 = KiWiBM25RetrieverWithScore(\n",
    "    documents=menu_documents, \n",
    "    kiwi_tokenizer=KiwiTokenizer(model_type='knlm', typos='basic'), \n",
    "    k=3, \n",
    ")       \n",
    "\n",
    "# 검색 실행\n",
    "query = \"스테이크 메뉴를 추천해주세요\"\n",
    "docs = retriever_bm25.invoke(query)\n",
    "print(f\"검색 결과 (BM25): {len(docs)}개\")\n",
    "\n",
    "for doc in docs:\n",
    "    print(f\"메뉴 번호: {doc.metadata['menu_number']}\")\n",
    "    print(f\"메뉴 이름: {doc.metadata['menu_name']}\")"
   ]
  },
  {
   "cell_type": "markdown",
   "metadata": {},
   "source": [
    "## 검색 성능 테스트"
   ]
  },
  {
   "cell_type": "code",
   "execution_count": 8,
   "metadata": {},
   "outputs": [
    {
     "name": "stdout",
     "output_type": "stream",
     "text": [
      "테스트 데이터 갯수: 15\n"
     ]
    },
    {
     "data": {
      "text/html": [
       "<div>\n",
       "<style scoped>\n",
       "    .dataframe tbody tr th:only-of-type {\n",
       "        vertical-align: middle;\n",
       "    }\n",
       "\n",
       "    .dataframe tbody tr th {\n",
       "        vertical-align: top;\n",
       "    }\n",
       "\n",
       "    .dataframe thead th {\n",
       "        text-align: right;\n",
       "    }\n",
       "</style>\n",
       "<table border=\"1\" class=\"dataframe\">\n",
       "  <thead>\n",
       "    <tr style=\"text-align: right;\">\n",
       "      <th></th>\n",
       "      <th>menu_name</th>\n",
       "      <th>question</th>\n",
       "      <th>answer</th>\n",
       "    </tr>\n",
       "  </thead>\n",
       "  <tbody>\n",
       "    <tr>\n",
       "      <th>0</th>\n",
       "      <td>시그니처 스테이크</td>\n",
       "      <td>이 레스토랑의 대표 메뉴로 알려진 고기 요리의 가격은 얼마인가요?</td>\n",
       "      <td>시그니처 스테이크의 가격은 ₩35,000입니다.</td>\n",
       "    </tr>\n",
       "    <tr>\n",
       "      <th>1</th>\n",
       "      <td>트러플 리조또</td>\n",
       "      <td>이탈리아 쌀요리 중 가장 비싼 메뉴는 무엇인가요?</td>\n",
       "      <td>트러플 리조또로, 가격은 ₩22,000입니다.</td>\n",
       "    </tr>\n",
       "    <tr>\n",
       "      <th>2</th>\n",
       "      <td>연어 타르타르</td>\n",
       "      <td>차가운 해산물 요리 중 가장 인기 있는 메뉴의 주요 재료는 무엇인가요?</td>\n",
       "      <td>연어 타르타르의 주요 식재료는 노르웨이산 생연어, 아보카도, 케이퍼, 적양파입니다.</td>\n",
       "    </tr>\n",
       "    <tr>\n",
       "      <th>3</th>\n",
       "      <td>버섯 크림 수프</td>\n",
       "      <td>버섯을 주재료로 한 따뜻한 수프 메뉴가 있나요? 있다면 가격은 얼마인가요?</td>\n",
       "      <td>네, 버섯 크림 수프가 있습니다. 가격은 ₩10,000입니다.</td>\n",
       "    </tr>\n",
       "    <tr>\n",
       "      <th>4</th>\n",
       "      <td>가든 샐러드</td>\n",
       "      <td>채식주의자를 위한 메인 요리로 추천할 만한 메뉴가 있나요?</td>\n",
       "      <td>가든 샐러드를 추천할 수 있습니다. 유기농 믹스 그린, 체리 토마토, 오이, 당근...</td>\n",
       "    </tr>\n",
       "  </tbody>\n",
       "</table>\n",
       "</div>"
      ],
      "text/plain": [
       "     menu_name                                     question  \\\n",
       "0   시그니처 스테이크         이 레스토랑의 대표 메뉴로 알려진 고기 요리의 가격은 얼마인가요?    \n",
       "1     트러플 리조또                  이탈리아 쌀요리 중 가장 비싼 메뉴는 무엇인가요?    \n",
       "2     연어 타르타르      차가운 해산물 요리 중 가장 인기 있는 메뉴의 주요 재료는 무엇인가요?    \n",
       "3    버섯 크림 수프    버섯을 주재료로 한 따뜻한 수프 메뉴가 있나요? 있다면 가격은 얼마인가요?    \n",
       "4      가든 샐러드             채식주의자를 위한 메인 요리로 추천할 만한 메뉴가 있나요?    \n",
       "\n",
       "                                              answer  \n",
       "0                        시그니처 스테이크의 가격은 ₩35,000입니다.   \n",
       "1                         트러플 리조또로, 가격은 ₩22,000입니다.   \n",
       "2    연어 타르타르의 주요 식재료는 노르웨이산 생연어, 아보카도, 케이퍼, 적양파입니다.   \n",
       "3                네, 버섯 크림 수프가 있습니다. 가격은 ₩10,000입니다.   \n",
       "4   가든 샐러드를 추천할 수 있습니다. 유기농 믹스 그린, 체리 토마토, 오이, 당근...  "
      ]
     },
     "execution_count": 8,
     "metadata": {},
     "output_type": "execute_result"
    }
   ],
   "source": [
    "# 테스트 데이터 로드\n",
    "import pandas as pd\n",
    "df_test = pd.read_csv(\"./data/restaurant_menu_test_data.csv\")\n",
    "\n",
    "print(\"테스트 데이터 갯수:\", len(df_test))\n",
    "df_test.columns = ['menu_name', 'question', 'answer']\n",
    "\n",
    "df_test.head()"
   ]
  },
  {
   "cell_type": "code",
   "execution_count": 9,
   "metadata": {},
   "outputs": [
    {
     "name": "stdout",
     "output_type": "stream",
     "text": [
      "메뉴 내용:\n",
      "1. 시그니처 스테이크\n",
      "   • 가격: ₩35,000\n",
      "   • 주요 식재료: 최상급 한우 등심, 로즈메리 감자, 그릴드 아스파라거스\n",
      "   • 설명: 셰프의 특제 시그니처 메뉴로, 21일간 건조 숙성한 최상급 한우 등심을 사용합니다. 미디엄 레어로 조리하여 육즙을 최대한 보존하며, 로즈메리 향의 감자와 아삭한 그릴드 아스파라거스가 곁들여집니다. 레드와인 소스와 함께 제공되어 풍부한 맛을 더합니다.\n"
     ]
    }
   ],
   "source": [
    "# 메뉴 이름으로 메뉴 항목 검색\n",
    "\n",
    "def find_content_by_menu_name(menu_name):\n",
    "    for doc in menu_documents:\n",
    "        if doc.metadata['menu_name'].strip() == menu_name.strip():\n",
    "            return doc.page_content\n",
    "    return None\n",
    "\n",
    "# 검색 테스트\n",
    "menu_name = \"시그니처 스테이크\"\n",
    "content = find_content_by_menu_name(menu_name)\n",
    "print(f\"메뉴 내용:\\n{content}\")"
   ]
  },
  {
   "cell_type": "code",
   "execution_count": 10,
   "metadata": {},
   "outputs": [
    {
     "data": {
      "text/plain": [
       "[Document(metadata={'menu_name': ' 시그니처 스테이크 '}, page_content='1. 시그니처 스테이크\\n   • 가격: ₩35,000\\n   • 주요 식재료: 최상급 한우 등심, 로즈메리 감자, 그릴드 아스파라거스\\n   • 설명: 셰프의 특제 시그니처 메뉴로, 21일간 건조 숙성한 최상급 한우 등심을 사용합니다. 미디엄 레어로 조리하여 육즙을 최대한 보존하며, 로즈메리 향의 감자와 아삭한 그릴드 아스파라거스가 곁들여집니다. 레드와인 소스와 함께 제공되어 풍부한 맛을 더합니다.')]"
      ]
     },
     "execution_count": 10,
     "metadata": {},
     "output_type": "execute_result"
    }
   ],
   "source": [
    "# df_test의 각 행별 컨텍스트 문서를 찾아서 Document 객체로 변환\n",
    "\n",
    "def create_context_docs(df_test, idx):\n",
    "    menu_name = df_test['menu_name'].iloc[idx]\n",
    "    context = find_content_by_menu_name(menu_name)\n",
    "    context_document = Document(page_content=context, metadata={\"menu_name\": menu_name})\n",
    "    return [context_document]\n",
    "\n",
    "# 문서 객체로 변환\n",
    "context_docs = create_context_docs(df_test, 0)\n",
    "context_docs"
   ]
  },
  {
   "cell_type": "code",
   "execution_count": 11,
   "metadata": {},
   "outputs": [
    {
     "data": {
      "text/plain": [
       "' 이 레스토랑의 대표 메뉴로 알려진 고기 요리의 가격은 얼마인가요? '"
      ]
     },
     "execution_count": 11,
     "metadata": {},
     "output_type": "execute_result"
    }
   ],
   "source": [
    "df_test['question'].iloc[0]"
   ]
  },
  {
   "cell_type": "code",
   "execution_count": 12,
   "metadata": {},
   "outputs": [
    {
     "name": "stdout",
     "output_type": "stream",
     "text": [
      "Hit Rate (BM25): 1.0\n",
      "Hit Rate (Chroma): 1.0\n"
     ]
    }
   ],
   "source": [
    "# 검색어 설청\n",
    "question = df_test['question'].iloc[0]\n",
    "\n",
    "# 정답 컨텍스트 문서\n",
    "context_docs = create_context_docs(df_test, 0)\n",
    "\n",
    "# 문서 검색\n",
    "docs_bm25 = retriever_bm25.invoke(question)\n",
    "docs_chroma = retriever_chroma.invoke(question)\n",
    "\n",
    "# 평가도구 초기화 \n",
    "from krag.evaluators import OfflineRetrievalEvaluators\n",
    "evaluator_bm25 = OfflineRetrievalEvaluators(\n",
    "    actual_docs=[context_docs], \n",
    "    predicted_docs=[docs_bm25], \n",
    "    )\n",
    "\n",
    "evaluator_chroma = OfflineRetrievalEvaluators(\n",
    "    actual_docs=[context_docs], \n",
    "    predicted_docs=[docs_chroma], \n",
    "    )\n",
    "\n",
    "# Hit Rate 계산 \n",
    "hit_rate_bm25 = evaluator_bm25.calculate_hit_rate()\n",
    "hit_rate_chroma = evaluator_chroma.calculate_hit_rate()\n",
    "\n",
    "# 결과 출력\n",
    "print(f\"Hit Rate (BM25): {hit_rate_bm25}\")\n",
    "print(f\"Hit Rate (Chroma): {hit_rate_chroma}\")\n"
   ]
  },
  {
   "cell_type": "code",
   "execution_count": 13,
   "metadata": {},
   "outputs": [
    {
     "name": "stdout",
     "output_type": "stream",
     "text": [
      "MRR (BM25): 0.5\n",
      "MRR (Chroma): 1.0\n"
     ]
    }
   ],
   "source": [
    "# MRR 계산\n",
    "mrr_bm25 = evaluator_bm25.calculate_mrr()\n",
    "mrr_chroma = evaluator_chroma.calculate_mrr()\n",
    "\n",
    "# 결과 출력\n",
    "print(f\"MRR (BM25): {mrr_bm25}\")\n",
    "print(f\"MRR (Chroma): {mrr_chroma}\")"
   ]
  },
  {
   "cell_type": "code",
   "execution_count": 14,
   "metadata": {},
   "outputs": [
    {
     "name": "stdout",
     "output_type": "stream",
     "text": [
      "평균 Hit Rate (BM25): 0.8\n",
      "평균 Hit Rate (Chroma): 0.6666666666666666\n",
      "평균 MRR (BM25): 0.5888888888888889\n",
      "평균 MRR (Chroma): 0.4777777777777778\n"
     ]
    },
    {
     "data": {
      "text/html": [
       "<div>\n",
       "<style scoped>\n",
       "    .dataframe tbody tr th:only-of-type {\n",
       "        vertical-align: middle;\n",
       "    }\n",
       "\n",
       "    .dataframe tbody tr th {\n",
       "        vertical-align: top;\n",
       "    }\n",
       "\n",
       "    .dataframe thead th {\n",
       "        text-align: right;\n",
       "    }\n",
       "</style>\n",
       "<table border=\"1\" class=\"dataframe\">\n",
       "  <thead>\n",
       "    <tr style=\"text-align: right;\">\n",
       "      <th></th>\n",
       "      <th>hit_rate_bm25</th>\n",
       "      <th>hit_rate_chroma</th>\n",
       "      <th>mrr_bm25</th>\n",
       "      <th>mrr_chroma</th>\n",
       "    </tr>\n",
       "  </thead>\n",
       "  <tbody>\n",
       "    <tr>\n",
       "      <th>0</th>\n",
       "      <td>1.0</td>\n",
       "      <td>1.0</td>\n",
       "      <td>0.500000</td>\n",
       "      <td>1.000000</td>\n",
       "    </tr>\n",
       "    <tr>\n",
       "      <th>1</th>\n",
       "      <td>1.0</td>\n",
       "      <td>1.0</td>\n",
       "      <td>1.000000</td>\n",
       "      <td>0.333333</td>\n",
       "    </tr>\n",
       "    <tr>\n",
       "      <th>2</th>\n",
       "      <td>0.0</td>\n",
       "      <td>1.0</td>\n",
       "      <td>0.000000</td>\n",
       "      <td>0.500000</td>\n",
       "    </tr>\n",
       "    <tr>\n",
       "      <th>3</th>\n",
       "      <td>1.0</td>\n",
       "      <td>1.0</td>\n",
       "      <td>1.000000</td>\n",
       "      <td>1.000000</td>\n",
       "    </tr>\n",
       "    <tr>\n",
       "      <th>4</th>\n",
       "      <td>1.0</td>\n",
       "      <td>0.0</td>\n",
       "      <td>0.333333</td>\n",
       "      <td>0.000000</td>\n",
       "    </tr>\n",
       "  </tbody>\n",
       "</table>\n",
       "</div>"
      ],
      "text/plain": [
       "   hit_rate_bm25  hit_rate_chroma  mrr_bm25  mrr_chroma\n",
       "0            1.0              1.0  0.500000    1.000000\n",
       "1            1.0              1.0  1.000000    0.333333\n",
       "2            0.0              1.0  0.000000    0.500000\n",
       "3            1.0              1.0  1.000000    1.000000\n",
       "4            1.0              0.0  0.333333    0.000000"
      ]
     },
     "execution_count": 14,
     "metadata": {},
     "output_type": "execute_result"
    }
   ],
   "source": [
    "# 전체 테스트 데이터에 대한 평가\n",
    "\n",
    "def evaluate_test(df_test, bm25_retriever, chrom_retriever):\n",
    "    hit_rates_bm25 = []\n",
    "    hit_rates_chroma = []\n",
    "\n",
    "    mrrs_bm25 = []\n",
    "    mrrs_chroma = []\n",
    "\n",
    "    for i in range(len(df_test)):\n",
    "        # 검색어 추출\n",
    "        question = df_test['question'].iloc[i]\n",
    "\n",
    "        # 정답 컨텍스트 문서\n",
    "        context_docs = create_context_docs(df_test, i)\n",
    "\n",
    "        # 문서 검색\n",
    "        docs_bm25 = bm25_retriever.invoke(question)\n",
    "        docs_chroma = chrom_retriever.invoke(question)\n",
    "\n",
    "        # 평가도구 초기화\n",
    "        evaluator_bm25 = OfflineRetrievalEvaluators(\n",
    "            actual_docs=[context_docs], \n",
    "            predicted_docs=[docs_bm25], \n",
    "        )\n",
    "\n",
    "        evaluator_chroma = OfflineRetrievalEvaluators(\n",
    "            actual_docs=[context_docs], \n",
    "            predicted_docs=[docs_chroma], \n",
    "        )\n",
    "\n",
    "        # Hit Rate 계산\n",
    "        hit_rate_bm25 = evaluator_bm25.calculate_hit_rate()\n",
    "        hit_rate_chroma = evaluator_chroma.calculate_hit_rate()\n",
    "\n",
    "        # MRR 계산\n",
    "        mrr_bm25 = evaluator_bm25.calculate_mrr()\n",
    "        mrr_chroma = evaluator_chroma.calculate_mrr()\n",
    "\n",
    "        # 결과 저장\n",
    "        hit_rates_bm25.append(hit_rate_bm25)\n",
    "        hit_rates_chroma.append(hit_rate_chroma)\n",
    "\n",
    "        mrrs_bm25.append(mrr_bm25)\n",
    "        mrrs_chroma.append(mrr_chroma)\n",
    "\n",
    "    # 평균 Hit Rate 계산\n",
    "    mean_hit_rate_bm25 = sum(hit_rates_bm25) / len(hit_rates_bm25)\n",
    "    mean_hit_rate_chroma = sum(hit_rates_chroma) / len(hit_rates_chroma)\n",
    "\n",
    "    # 평균 MRR 계산\n",
    "    mean_mrr_bm25 = sum(mrrs_bm25) / len(mrrs_bm25)\n",
    "    mean_mrr_chroma = sum(mrrs_chroma) / len(mrrs_chroma)\n",
    "\n",
    "    # 결과 출력\n",
    "    print(f\"평균 Hit Rate (BM25): {mean_hit_rate_bm25}\")\n",
    "    print(f\"평균 Hit Rate (Chroma): {mean_hit_rate_chroma}\")\n",
    "\n",
    "    print(f\"평균 MRR (BM25): {mean_mrr_bm25}\")\n",
    "    print(f\"평균 MRR (Chroma): {mean_mrr_chroma}\")\n",
    "\n",
    "    # 평가결과를 데이터프레임으로 변환\n",
    "    df_eval = pd.DataFrame({\n",
    "        \"hit_rate_bm25\": hit_rates_bm25,\n",
    "        \"hit_rate_chroma\": hit_rates_chroma,\n",
    "        \"mrr_bm25\": mrrs_bm25,\n",
    "        \"mrr_chroma\": mrrs_chroma\n",
    "    })\n",
    "\n",
    "\n",
    "    return df_eval\n",
    "\n",
    "\n",
    "# 전체 테스트 데이터에 대한 평가 실행\n",
    "df_eval = evaluate_test(df_test, retriever_bm25, retriever_chroma)\n",
    "df_eval.head()"
   ]
  },
  {
   "cell_type": "markdown",
   "metadata": {},
   "source": [
    "## 일반적인 Text Splitter 적용했을 때 검색 성능"
   ]
  },
  {
   "cell_type": "code",
   "execution_count": 15,
   "metadata": {},
   "outputs": [],
   "source": [
    "from krag.evaluators import RougeOfflineRetrievalEvaluators\n",
    "\n",
    "def evaluate_test_rouge(df_test, bm25_retriever, chrom_retriever):\n",
    "    hit_rates_bm25 = []\n",
    "    hit_rates_chroma = []\n",
    "\n",
    "    mrrs_bm25 = []\n",
    "    mrrs_chroma = []\n",
    "\n",
    "    for i in range(len(df_test)):\n",
    "        # 검색어 추출\n",
    "        question = df_test['question'].iloc[i]\n",
    "\n",
    "        # 정답 컨텍스트 문서\n",
    "        context_docs = create_context_docs(df_test, i)\n",
    "\n",
    "        # 문서 검색\n",
    "        docs_bm25 = bm25_retriever.invoke(question)\n",
    "        docs_chroma = chrom_retriever.invoke(question)\n",
    "\n",
    "        # ROUGE 매칭을 사용한 평가도구 초기화 \n",
    "        evaluator_bm25 = RougeOfflineRetrievalEvaluators(\n",
    "            actual_docs=[context_docs], \n",
    "            predicted_docs=[docs_bm25], \n",
    "            match_method=\"rouge1\", \n",
    "            threshold=0.6,\n",
    "        )\n",
    "\n",
    "        evaluator_chroma = RougeOfflineRetrievalEvaluators(\n",
    "            actual_docs=[context_docs], \n",
    "            predicted_docs=[docs_chroma], \n",
    "            match_method=\"rouge1\", \n",
    "            threshold=0.6,            \n",
    "        )\n",
    "\n",
    "        # Hit Rate 계산\n",
    "        hit_rate_bm25 = evaluator_bm25.calculate_hit_rate()\n",
    "        hit_rate_chroma = evaluator_chroma.calculate_hit_rate()\n",
    "\n",
    "        # MRR 계산\n",
    "        mrr_bm25 = evaluator_bm25.calculate_mrr()\n",
    "        mrr_chroma = evaluator_chroma.calculate_mrr()\n",
    "\n",
    "        # 결과 저장\n",
    "        hit_rates_bm25.append(hit_rate_bm25)\n",
    "        hit_rates_chroma.append(hit_rate_chroma)\n",
    "\n",
    "        mrrs_bm25.append(mrr_bm25)\n",
    "        mrrs_chroma.append(mrr_chroma)\n",
    "\n",
    "    # 평균 Hit Rate 계산\n",
    "    mean_hit_rate_bm25 = sum(hit_rates_bm25) / len(hit_rates_bm25)\n",
    "    mean_hit_rate_chroma = sum(hit_rates_chroma) / len(hit_rates_chroma)\n",
    "\n",
    "    # 평균 MRR 계산\n",
    "    mean_mrr_bm25 = sum(mrrs_bm25) / len(mrrs_bm25)\n",
    "    mean_mrr_chroma = sum(mrrs_chroma) / len(mrrs_chroma)\n",
    "\n",
    "    # 결과 출력\n",
    "    print(f\"평균 Hit Rate (BM25): {mean_hit_rate_bm25}\")\n",
    "    print(f\"평균 Hit Rate (Chroma): {mean_hit_rate_chroma}\")\n",
    "\n",
    "    print(f\"평균 MRR (BM25): {mean_mrr_bm25}\")\n",
    "    print(f\"평균 MRR (Chroma): {mean_mrr_chroma}\")\n",
    "\n",
    "    # 평가결과를 데이터프레임으로 변환\n",
    "    df_eval = pd.DataFrame({\n",
    "        \"hit_rate_bm25\": hit_rates_bm25,\n",
    "        \"hit_rate_chroma\": hit_rates_chroma,\n",
    "        \"mrr_bm25\": mrrs_bm25,\n",
    "        \"mrr_chroma\": mrrs_chroma\n",
    "    })\n",
    "\n",
    "\n",
    "    return df_eval"
   ]
  },
  {
   "cell_type": "code",
   "execution_count": 16,
   "metadata": {},
   "outputs": [
    {
     "data": {
      "text/plain": [
       "16"
      ]
     },
     "execution_count": 16,
     "metadata": {},
     "output_type": "execute_result"
    }
   ],
   "source": [
    "from langchain_text_splitters import RecursiveCharacterTextSplitter\n",
    "\n",
    "text_splitter = RecursiveCharacterTextSplitter(\n",
    "    chunk_size=200,\n",
    "    chunk_overlap=50,\n",
    ")\n",
    "\n",
    "split_docs = text_splitter.split_documents(documents)\n",
    "\n",
    "len(split_docs)"
   ]
  },
  {
   "cell_type": "code",
   "execution_count": 17,
   "metadata": {},
   "outputs": [
    {
     "name": "stdout",
     "output_type": "stream",
     "text": [
      "1. 시그니처 스테이크\n",
      "   • 가격: ₩35,000\n",
      "   • 주요 식재료: 최상급 한우 등심, 로즈메리 감자, 그릴드 아스파라거스\n"
     ]
    }
   ],
   "source": [
    "print(split_docs[0].page_content)"
   ]
  },
  {
   "cell_type": "code",
   "execution_count": 18,
   "metadata": {},
   "outputs": [
    {
     "name": "stdout",
     "output_type": "stream",
     "text": [
      "• 주요 식재료: 최상급 한우 등심, 로즈메리 감자, 그릴드 아스파라거스\n",
      "   • 설명: 셰프의 특제 시그니처 메뉴로, 21일간 건조 숙성한 최상급 한우 등심을 사용합니다. 미디엄 레어로 조리하여 육즙을 최대한 보존하며, 로즈메리 향의 감자와 아삭한 그릴드 아스파라거스가 곁들여집니다. 레드와인 소스와 함께 제공되어 풍부한 맛을 더합니다.\n"
     ]
    }
   ],
   "source": [
    "print(split_docs[1].page_content)"
   ]
  },
  {
   "cell_type": "code",
   "execution_count": 19,
   "metadata": {},
   "outputs": [],
   "source": [
    "# 벡터 임베딩\n",
    "from langchain_community.vectorstores import Chroma\n",
    "from langchain_openai import OpenAIEmbeddings\n",
    "\n",
    "# OpenAI Embeddings 모델 로드\n",
    "embeddings_model = OpenAIEmbeddings(model=\"text-embedding-3-small\")\n",
    "\n",
    "# 유클리드 거리를 사용하는 Chroma 인덱스 생성\n",
    "db_chroma_split = Chroma.from_documents(\n",
    "    documents=split_docs, \n",
    "    embedding=embeddings_model,   \n",
    "    collection_name=\"restaurant_menu_chumk200_db\",\n",
    "    persist_directory=\"./chroma_db\",\n",
    ")"
   ]
  },
  {
   "cell_type": "code",
   "execution_count": 20,
   "metadata": {},
   "outputs": [],
   "source": [
    "# 검색기 초기화 (k=3)\n",
    "retriever_chroma_split = db_chroma_split.as_retriever(\n",
    "    search_kwargs = {\"k\": 3}\n",
    ")"
   ]
  },
  {
   "cell_type": "code",
   "execution_count": 21,
   "metadata": {},
   "outputs": [],
   "source": [
    "from krag.tokenizers import KiwiTokenizer\n",
    "from krag.retrievers import KiWiBM25RetrieverWithScore\n",
    "\n",
    "# BM25 검색기 초기화 (k=3)\n",
    "retriever_bm25_split = KiWiBM25RetrieverWithScore(\n",
    "    documents=split_docs, \n",
    "    kiwi_tokenizer=KiwiTokenizer(model_type='knlm', typos='basic'), \n",
    "    k=3, \n",
    ")       "
   ]
  },
  {
   "cell_type": "code",
   "execution_count": 22,
   "metadata": {},
   "outputs": [
    {
     "name": "stdout",
     "output_type": "stream",
     "text": [
      "평균 Hit Rate (BM25): 0.6666666666666666\n",
      "평균 Hit Rate (Chroma): 0.6\n",
      "평균 MRR (BM25): 0.4222222222222222\n",
      "평균 MRR (Chroma): 0.4444444444444445\n"
     ]
    },
    {
     "data": {
      "text/html": [
       "<div>\n",
       "<style scoped>\n",
       "    .dataframe tbody tr th:only-of-type {\n",
       "        vertical-align: middle;\n",
       "    }\n",
       "\n",
       "    .dataframe tbody tr th {\n",
       "        vertical-align: top;\n",
       "    }\n",
       "\n",
       "    .dataframe thead th {\n",
       "        text-align: right;\n",
       "    }\n",
       "</style>\n",
       "<table border=\"1\" class=\"dataframe\">\n",
       "  <thead>\n",
       "    <tr style=\"text-align: right;\">\n",
       "      <th></th>\n",
       "      <th>hit_rate_bm25</th>\n",
       "      <th>hit_rate_chroma</th>\n",
       "      <th>mrr_bm25</th>\n",
       "      <th>mrr_chroma</th>\n",
       "    </tr>\n",
       "  </thead>\n",
       "  <tbody>\n",
       "    <tr>\n",
       "      <th>0</th>\n",
       "      <td>1.0</td>\n",
       "      <td>0.0</td>\n",
       "      <td>0.500000</td>\n",
       "      <td>0.000000</td>\n",
       "    </tr>\n",
       "    <tr>\n",
       "      <th>1</th>\n",
       "      <td>1.0</td>\n",
       "      <td>0.0</td>\n",
       "      <td>0.500000</td>\n",
       "      <td>0.000000</td>\n",
       "    </tr>\n",
       "    <tr>\n",
       "      <th>2</th>\n",
       "      <td>0.0</td>\n",
       "      <td>1.0</td>\n",
       "      <td>0.000000</td>\n",
       "      <td>0.333333</td>\n",
       "    </tr>\n",
       "    <tr>\n",
       "      <th>3</th>\n",
       "      <td>0.0</td>\n",
       "      <td>1.0</td>\n",
       "      <td>0.000000</td>\n",
       "      <td>0.333333</td>\n",
       "    </tr>\n",
       "    <tr>\n",
       "      <th>4</th>\n",
       "      <td>1.0</td>\n",
       "      <td>1.0</td>\n",
       "      <td>0.333333</td>\n",
       "      <td>0.500000</td>\n",
       "    </tr>\n",
       "  </tbody>\n",
       "</table>\n",
       "</div>"
      ],
      "text/plain": [
       "   hit_rate_bm25  hit_rate_chroma  mrr_bm25  mrr_chroma\n",
       "0            1.0              0.0  0.500000    0.000000\n",
       "1            1.0              0.0  0.500000    0.000000\n",
       "2            0.0              1.0  0.000000    0.333333\n",
       "3            0.0              1.0  0.000000    0.333333\n",
       "4            1.0              1.0  0.333333    0.500000"
      ]
     },
     "execution_count": 22,
     "metadata": {},
     "output_type": "execute_result"
    }
   ],
   "source": [
    "# 전체 테스트 데이터에 대한 평가 실행\n",
    "df_eval_chunk_250 = evaluate_test_rouge(df_test, retriever_bm25_split, retriever_chroma_split)\n",
    "df_eval_chunk_250.head()"
   ]
  },
  {
   "cell_type": "code",
   "execution_count": 23,
   "metadata": {},
   "outputs": [
    {
     "name": "stdout",
     "output_type": "stream",
     "text": [
      "page_content='• 주요 식재료: 소고기 안심, 루꼴라, 체리 토마토, 발사믹 글레이즈\n",
      "   • 설명: 부드러운 안심 스테이크를 얇게 슬라이스하여 신선한 루꼴라 위에 올린 메인 요리 샐러드입니다. 체리 토마토와 파마산 치즈 플레이크로 풍미를 더하고, 발사믹 글레이즈로 마무리하여 고기의 풍미를 한층 끌어올렸습니다.' metadata={'source': './data/restaurant_menu.txt', 'bm25_score': 6.746306799129181}\n",
      "page_content='• 주요 식재료: 최상급 한우 등심, 로즈메리 감자, 그릴드 아스파라거스\n",
      "   • 설명: 셰프의 특제 시그니처 메뉴로, 21일간 건조 숙성한 최상급 한우 등심을 사용합니다. 미디엄 레어로 조리하여 육즙을 최대한 보존하며, 로즈메리 향의 감자와 아삭한 그릴드 아스파라거스가 곁들여집니다. 레드와인 소스와 함께 제공되어 풍부한 맛을 더합니다.' metadata={'source': './data/restaurant_menu.txt', 'bm25_score': 5.459354624701536}\n",
      "page_content='6. 해산물 파스타\n",
      "   • 가격: ₩24,000\n",
      "   • 주요 식재료: 링귀네 파스타, 새우, 홍합, 오징어, 토마토 소스\n",
      "   • 설명: 알 덴테로 삶은 링귀네 파스타에 신선한 해산물을 듬뿍 올린 메뉴입니다. 토마토 소스의 산미와 해산물의 감칠맛이 조화를 이루며, 마늘과 올리브 오일로 풍미를 더했습니다. 파슬리를 뿌려 향긋한 맛을 더합니다.' metadata={'source': './data/restaurant_menu.txt', 'bm25_score': 5.03803657775352}\n"
     ]
    }
   ],
   "source": [
    "docs = retriever_bm25_split.invoke(\"이 레스토랑의 대표 메뉴로 알려진 고기 요리의 가격은 얼마인가요?\")\n",
    "for doc in docs:\n",
    "    print(doc)"
   ]
  },
  {
   "cell_type": "code",
   "execution_count": 24,
   "metadata": {},
   "outputs": [
    {
     "data": {
      "text/html": [
       "<div>\n",
       "<style scoped>\n",
       "    .dataframe tbody tr th:only-of-type {\n",
       "        vertical-align: middle;\n",
       "    }\n",
       "\n",
       "    .dataframe tbody tr th {\n",
       "        vertical-align: top;\n",
       "    }\n",
       "\n",
       "    .dataframe thead th {\n",
       "        text-align: right;\n",
       "    }\n",
       "</style>\n",
       "<table border=\"1\" class=\"dataframe\">\n",
       "  <thead>\n",
       "    <tr style=\"text-align: right;\">\n",
       "      <th></th>\n",
       "      <th>hit_rate_bm25</th>\n",
       "      <th>hit_rate_chroma</th>\n",
       "      <th>mrr_bm25</th>\n",
       "      <th>mrr_chroma</th>\n",
       "    </tr>\n",
       "  </thead>\n",
       "  <tbody>\n",
       "    <tr>\n",
       "      <th>structure</th>\n",
       "      <td>0.800000</td>\n",
       "      <td>0.666667</td>\n",
       "      <td>0.588889</td>\n",
       "      <td>0.477778</td>\n",
       "    </tr>\n",
       "    <tr>\n",
       "      <th>simple</th>\n",
       "      <td>0.666667</td>\n",
       "      <td>0.600000</td>\n",
       "      <td>0.422222</td>\n",
       "      <td>0.444444</td>\n",
       "    </tr>\n",
       "  </tbody>\n",
       "</table>\n",
       "</div>"
      ],
      "text/plain": [
       "           hit_rate_bm25  hit_rate_chroma  mrr_bm25  mrr_chroma\n",
       "structure       0.800000         0.666667  0.588889    0.477778\n",
       "simple          0.666667         0.600000  0.422222    0.444444"
      ]
     },
     "execution_count": 24,
     "metadata": {},
     "output_type": "execute_result"
    }
   ],
   "source": [
    "# 각 방식의 평균 Hit Rate 및 MRR 계산해서 데이터프레임으로 변환\n",
    "df_eval_mean = df_eval.mean().to_frame().T\n",
    "df_eval_chunk_250_mean = df_eval_chunk_250.mean().to_frame().T\n",
    "\n",
    "# 병합\n",
    "df_eval_all = pd.concat([df_eval_mean, df_eval_chunk_250_mean], axis=0)\n",
    "df_eval_all.index = ['structure', 'simple']\n",
    "\n",
    "df_eval_all"
   ]
  },
  {
   "cell_type": "code",
   "execution_count": 35,
   "metadata": {},
   "outputs": [
    {
     "data": {
      "image/png": "[encoded data removed]",
      "text/plain": [
       "<Figure size 1000x600 with 4 Axes>"
      ]
     },
     "metadata": {},
     "output_type": "display_data"
    }
   ],
   "source": [
    "# 시각화: 각 성능 지표별로 막대 그래프 생성\n",
    "df_eval_all.plot(kind='barh', figsize=(10, 6), subplots=True, layout=(2, 2), sharey=True, legend=False);"
   ]
  },
  {
   "cell_type": "markdown",
   "metadata": {},
   "source": [
    "## 앙상블 검색기"
   ]
  },
  {
   "cell_type": "code",
   "execution_count": 36,
   "metadata": {},
   "outputs": [
    {
     "name": "stdout",
     "output_type": "stream",
     "text": [
      "평균 Hit Rate (Ensemble): 0.9333333333333333\n",
      "평균 MRR (Ensemble): 0.5722222222222223\n"
     ]
    },
    {
     "data": {
      "text/html": [
       "<div>\n",
       "<style scoped>\n",
       "    .dataframe tbody tr th:only-of-type {\n",
       "        vertical-align: middle;\n",
       "    }\n",
       "\n",
       "    .dataframe tbody tr th {\n",
       "        vertical-align: top;\n",
       "    }\n",
       "\n",
       "    .dataframe thead th {\n",
       "        text-align: right;\n",
       "    }\n",
       "</style>\n",
       "<table border=\"1\" class=\"dataframe\">\n",
       "  <thead>\n",
       "    <tr style=\"text-align: right;\">\n",
       "      <th></th>\n",
       "      <th>hit_rate_ensemble</th>\n",
       "      <th>mrr_ensemble</th>\n",
       "    </tr>\n",
       "  </thead>\n",
       "  <tbody>\n",
       "    <tr>\n",
       "      <th>0</th>\n",
       "      <td>1.0</td>\n",
       "      <td>0.500000</td>\n",
       "    </tr>\n",
       "    <tr>\n",
       "      <th>1</th>\n",
       "      <td>1.0</td>\n",
       "      <td>1.000000</td>\n",
       "    </tr>\n",
       "    <tr>\n",
       "      <th>2</th>\n",
       "      <td>1.0</td>\n",
       "      <td>0.333333</td>\n",
       "    </tr>\n",
       "    <tr>\n",
       "      <th>3</th>\n",
       "      <td>1.0</td>\n",
       "      <td>1.000000</td>\n",
       "    </tr>\n",
       "    <tr>\n",
       "      <th>4</th>\n",
       "      <td>1.0</td>\n",
       "      <td>0.250000</td>\n",
       "    </tr>\n",
       "  </tbody>\n",
       "</table>\n",
       "</div>"
      ],
      "text/plain": [
       "   hit_rate_ensemble  mrr_ensemble\n",
       "0                1.0      0.500000\n",
       "1                1.0      1.000000\n",
       "2                1.0      0.333333\n",
       "3                1.0      1.000000\n",
       "4                1.0      0.250000"
      ]
     },
     "execution_count": 36,
     "metadata": {},
     "output_type": "execute_result"
    }
   ],
   "source": [
    "from langchain.retrievers import EnsembleRetriever\n",
    "\n",
    "def evaluate_ensmeble(ensemble_retriever):\n",
    "\n",
    "    # 전체 테스트 데이터에 대한 평가 실행\n",
    "    hit_rate_ensemble = []\n",
    "    mrr_ensemble = []\n",
    "\n",
    "    for i in range(len(df_test)):\n",
    "        # 검색어 추출\n",
    "        question = df_test['question'].iloc[i]\n",
    "\n",
    "        # 정답 컨텍스트 문서\n",
    "        context_docs = create_context_docs(df_test, i)\n",
    "\n",
    "        # 문서 검색\n",
    "        docs_ensemble = ensemble_retriever.invoke(question)\n",
    "\n",
    "        # 평가도구 초기화\n",
    "        evaluator_ensemble = RougeOfflineRetrievalEvaluators(\n",
    "            actual_docs=[context_docs], \n",
    "            predicted_docs=[docs_ensemble], \n",
    "            match_method=\"rouge1\", \n",
    "            threshold=0.6,\n",
    "        )\n",
    "\n",
    "        # Hit Rate 계산\n",
    "        hit_rate_ensemble.append(evaluator_ensemble.calculate_hit_rate())\n",
    "\n",
    "        # MRR 계산\n",
    "        mrr_ensemble.append(evaluator_ensemble.calculate_mrr())\n",
    "\n",
    "    # 평균 Hit Rate 계산\n",
    "    mean_hit_rate_ensemble = sum(hit_rate_ensemble) / len(hit_rate_ensemble)\n",
    "\n",
    "    # 평균 MRR 계산\n",
    "    mean_mrr_ensemble = sum(mrr_ensemble) / len(mrr_ensemble)\n",
    "\n",
    "    # 결과 출력\n",
    "    print(f\"평균 Hit Rate (Ensemble): {mean_hit_rate_ensemble}\")\n",
    "    print(f\"평균 MRR (Ensemble): {mean_mrr_ensemble}\")\n",
    "\n",
    "    # 평가결과를 데이터프레임으로 변환\n",
    "    df_eval_ensemble = pd.DataFrame({\n",
    "        \"hit_rate_ensemble\": hit_rate_ensemble,\n",
    "        \"mrr_ensemble\": mrr_ensemble,\n",
    "    })\n",
    "\n",
    "    return df_eval_ensemble\n",
    "\n",
    "# 앙상블 검색기 초기화\n",
    "ensemble_retriever = EnsembleRetriever(\n",
    "    retrievers=[retriever_bm25, retriever_chroma], \n",
    "    weights=[0.5, 0.5],\n",
    ")\n",
    "\n",
    "# 앙상블 검색기 평가\n",
    "df_eval_ensemble_structure = evaluate_ensmeble(ensemble_retriever)\n",
    "df_eval_ensemble_structure.head()\n"
   ]
  },
  {
   "cell_type": "code",
   "execution_count": 37,
   "metadata": {},
   "outputs": [
    {
     "name": "stdout",
     "output_type": "stream",
     "text": [
      "평균 Hit Rate (Ensemble): 0.8666666666666667\n",
      "평균 MRR (Ensemble): 0.5133333333333333\n"
     ]
    },
    {
     "data": {
      "text/html": [
       "<div>\n",
       "<style scoped>\n",
       "    .dataframe tbody tr th:only-of-type {\n",
       "        vertical-align: middle;\n",
       "    }\n",
       "\n",
       "    .dataframe tbody tr th {\n",
       "        vertical-align: top;\n",
       "    }\n",
       "\n",
       "    .dataframe thead th {\n",
       "        text-align: right;\n",
       "    }\n",
       "</style>\n",
       "<table border=\"1\" class=\"dataframe\">\n",
       "  <thead>\n",
       "    <tr style=\"text-align: right;\">\n",
       "      <th></th>\n",
       "      <th>hit_rate_ensemble</th>\n",
       "      <th>mrr_ensemble</th>\n",
       "    </tr>\n",
       "  </thead>\n",
       "  <tbody>\n",
       "    <tr>\n",
       "      <th>0</th>\n",
       "      <td>1.0</td>\n",
       "      <td>0.500000</td>\n",
       "    </tr>\n",
       "    <tr>\n",
       "      <th>1</th>\n",
       "      <td>1.0</td>\n",
       "      <td>0.250000</td>\n",
       "    </tr>\n",
       "    <tr>\n",
       "      <th>2</th>\n",
       "      <td>1.0</td>\n",
       "      <td>0.200000</td>\n",
       "    </tr>\n",
       "    <tr>\n",
       "      <th>3</th>\n",
       "      <td>1.0</td>\n",
       "      <td>0.166667</td>\n",
       "    </tr>\n",
       "    <tr>\n",
       "      <th>4</th>\n",
       "      <td>1.0</td>\n",
       "      <td>0.500000</td>\n",
       "    </tr>\n",
       "  </tbody>\n",
       "</table>\n",
       "</div>"
      ],
      "text/plain": [
       "   hit_rate_ensemble  mrr_ensemble\n",
       "0                1.0      0.500000\n",
       "1                1.0      0.250000\n",
       "2                1.0      0.200000\n",
       "3                1.0      0.166667\n",
       "4                1.0      0.500000"
      ]
     },
     "execution_count": 37,
     "metadata": {},
     "output_type": "execute_result"
    }
   ],
   "source": [
    "# 앙상블 검색기 초기화\n",
    "ensemble_retriever_split = EnsembleRetriever(\n",
    "    retrievers=[retriever_bm25_split, retriever_chroma_split], \n",
    "    weights=[0.5, 0.5],\n",
    ")\n",
    "\n",
    "# 앙상블 검색기 평가\n",
    "df_eval_ensemble_simple = evaluate_ensmeble(ensemble_retriever_split)\n",
    "df_eval_ensemble_simple.head()"
   ]
  },
  {
   "cell_type": "code",
   "execution_count": 38,
   "metadata": {},
   "outputs": [
    {
     "data": {
      "text/html": [
       "<div>\n",
       "<style scoped>\n",
       "    .dataframe tbody tr th:only-of-type {\n",
       "        vertical-align: middle;\n",
       "    }\n",
       "\n",
       "    .dataframe tbody tr th {\n",
       "        vertical-align: top;\n",
       "    }\n",
       "\n",
       "    .dataframe thead th {\n",
       "        text-align: right;\n",
       "    }\n",
       "</style>\n",
       "<table border=\"1\" class=\"dataframe\">\n",
       "  <thead>\n",
       "    <tr style=\"text-align: right;\">\n",
       "      <th></th>\n",
       "      <th>hit_rate_bm25</th>\n",
       "      <th>hit_rate_chroma</th>\n",
       "      <th>hit_rate_ensemble</th>\n",
       "      <th>mrr_bm25</th>\n",
       "      <th>mrr_chroma</th>\n",
       "      <th>mrr_ensemble</th>\n",
       "    </tr>\n",
       "  </thead>\n",
       "  <tbody>\n",
       "    <tr>\n",
       "      <th>structure</th>\n",
       "      <td>0.800000</td>\n",
       "      <td>0.666667</td>\n",
       "      <td>0.933333</td>\n",
       "      <td>0.588889</td>\n",
       "      <td>0.477778</td>\n",
       "      <td>0.572222</td>\n",
       "    </tr>\n",
       "    <tr>\n",
       "      <th>simple</th>\n",
       "      <td>0.666667</td>\n",
       "      <td>0.600000</td>\n",
       "      <td>0.866667</td>\n",
       "      <td>0.422222</td>\n",
       "      <td>0.444444</td>\n",
       "      <td>0.513333</td>\n",
       "    </tr>\n",
       "  </tbody>\n",
       "</table>\n",
       "</div>"
      ],
      "text/plain": [
       "           hit_rate_bm25  hit_rate_chroma  hit_rate_ensemble  mrr_bm25  \\\n",
       "structure       0.800000         0.666667           0.933333  0.588889   \n",
       "simple          0.666667         0.600000           0.866667  0.422222   \n",
       "\n",
       "           mrr_chroma  mrr_ensemble  \n",
       "structure    0.477778      0.572222  \n",
       "simple       0.444444      0.513333  "
      ]
     },
     "execution_count": 38,
     "metadata": {},
     "output_type": "execute_result"
    }
   ],
   "source": [
    "# 기존 평가결과와 결합\n",
    "df_eval_all['hit_rate_ensemble'] = [\n",
    "    df_eval_ensemble_structure['hit_rate_ensemble'].mean(),\n",
    "    df_eval_ensemble_simple['hit_rate_ensemble'].mean(),\n",
    "]\n",
    "\n",
    "df_eval_all['mrr_ensemble'] = [\n",
    "    df_eval_ensemble_structure['mrr_ensemble'].mean(),\n",
    "    df_eval_ensemble_simple['mrr_ensemble'].mean(),\n",
    "]\n",
    "\n",
    "df_eval_all = df_eval_all[['hit_rate_bm25', 'hit_rate_chroma', 'hit_rate_ensemble', 'mrr_bm25', 'mrr_chroma', 'mrr_ensemble']]\n",
    "df_eval_all"
   ]
  },
  {
   "cell_type": "code",
   "execution_count": 39,
   "metadata": {},
   "outputs": [
    {
     "data": {
      "image/png": "[encoded data removed]",
      "text/plain": [
       "<Figure size 1000x600 with 6 Axes>"
      ]
     },
     "metadata": {},
     "output_type": "display_data"
    }
   ],
   "source": [
    "# 시각화: 각 성능 지표별로 막대 그래프 생성\n",
    "df_eval_all.plot(kind='barh', figsize=(10, 6), subplots=True, layout=(2, 3), sharey=True, legend=False);"
   ]
  },
  {
   "cell_type": "markdown",
   "metadata": {},
   "source": [
    "# RAG 체인을 Gradio로 구현"
   ]
  },
  {
   "cell_type": "code",
   "execution_count": 44,
   "metadata": {},
   "outputs": [
    {
     "name": "stdout",
     "output_type": "stream",
     "text": [
      "Running on local URL:  http://127.0.0.1:7860\n",
      "\n",
      "To create a public link, set `share=True` in `launch()`.\n"
     ]
    },
    {
     "data": {
      "text/html": [
       "<div><iframe src=\"http://127.0.0.1:7860/\" width=\"100%\" height=\"500\" allow=\"autoplay; camera; microphone; clipboard-read; clipboard-write;\" frameborder=\"0\" allowfullscreen></iframe></div>"
      ],
      "text/plain": [
       "<IPython.core.display.HTML object>"
      ]
     },
     "metadata": {},
     "output_type": "display_data"
    },
    {
     "data": {
      "text/plain": []
     },
     "execution_count": 44,
     "metadata": {},
     "output_type": "execute_result"
    }
   ],
   "source": [
    "import gradio as gr\n",
    "from typing import List, Tuple\n",
    "\n",
    "from langchain.chat_models import ChatOpenAI\n",
    "from langchain.chains import RetrievalQA\n",
    "from langchain.prompts import PromptTemplate\n",
    "\n",
    "from sentence_transformers import CrossEncoder\n",
    "\n",
    "# 프롬프트 템플릿\n",
    "template = \"\"\"Use the following pieces of context to answer the question at the end. \n",
    "If you don't know the answer, just say that you don't know, don't try to make up an answer.\n",
    "\n",
    "{context}\n",
    "\n",
    "Question: {question}\n",
    "Answer: \"\"\"\n",
    "QA_CHAIN_PROMPT = PromptTemplate(input_variables=[\"context\", \"question\"], template=template)\n",
    "\n",
    "\n",
    "# 검색기와 언어 모델을 사용한 QA 체인 초기화\n",
    "qa_chain = RetrievalQA.from_chain_type(\n",
    "    llm=ChatOpenAI(model_name=\"gpt-4o-mini\", temperature=0),  # 언어 모델 설정\n",
    "    chain_type=\"stuff\",  # QA 체인 유형 설정\n",
    "    retriever=ensemble_retriever,  # 사전에 정의된 검색기 사용\n",
    "    return_source_documents=True,  # 소스 문서 반환 설정\n",
    "    chain_type_kwargs={\"prompt\": QA_CHAIN_PROMPT}  # 프롬프트 템플릿 사용\n",
    ")\n",
    "\n",
    "\n",
    "# Cross Endocer 모델 초기화\n",
    "cross_encoder_model = CrossEncoder(\"BAAI/bge-reranker-v2-m3\")\n",
    "\n",
    "# 답변 하이라이트 함수\n",
    "def highlight_answer_in_context(answer: str, context: str, threshold: float = 0.5) -> str:\n",
    "\n",
    "    # 컨텍스트를 문장으로 분리\n",
    "    sentences = context.split(\"\\n\\n\")\n",
    "    \n",
    "    # 각 문장과 답변 사이의 유사도 계산\n",
    "    similarities = cross_encoder_model.predict([(answer, sent) for sent in sentences])\n",
    "    \n",
    "    # 하이라이트된 컨텍스트 생성\n",
    "    highlighted_context = \"\"\n",
    "    for sent, sim in zip(sentences, similarities):\n",
    "        if sim > threshold:\n",
    "            highlighted_context += f\"<mark>{sent}</mark> \"\n",
    "        else:\n",
    "            highlighted_context += sent + \" \"\n",
    "    \n",
    "    return highlighted_context.strip()\n",
    "\n",
    "# 챗봇 쿼리 처리 함수\n",
    "def process_query(query: str) -> Tuple[str, List[str]]:\n",
    "    result = qa_chain({\"query\": query})\n",
    "    answer = result['result']\n",
    "    source_documents = result['source_documents']\n",
    "    \n",
    "    # 소스 문서에서 답변과 관련된 부분 하이라이트\n",
    "    highlighted_docs = []\n",
    "    for doc in source_documents:\n",
    "        highlighted_content = highlight_answer_in_context(answer, doc.page_content)\n",
    "        highlighted_docs.append(highlighted_content)\n",
    "    \n",
    "    return answer, highlighted_docs\n",
    "\n",
    "# 챗봇 대화 함수\n",
    "def chat(message, history):\n",
    "    answer, highlighted_docs = process_query(message)\n",
    "    response = f\"답변: {answer}\\n\\n참조:\\n\"\n",
    "    for i, doc in enumerate(highlighted_docs, 1):\n",
    "        response += f\"\\n{i}. {doc}\\n\"\n",
    "    return response\n",
    "\n",
    "# Gradio 챗봇 인터페이스 초기화 및 실행\n",
    "iface = gr.ChatInterface(\n",
    "    chat,\n",
    "    chatbot=gr.Chatbot(height=500, render_markdown=True),\n",
    "    textbox=gr.Textbox(placeholder=\"질문을 입력하세요\", container=False, scale=7),\n",
    "    title=\"레스토랑 메뉴 QA 챗봇\",\n",
    "    description=\"레스토랑 메뉴에 대해 질문해보세요.\",\n",
    "    theme=\"soft\",\n",
    "    examples=[\n",
    "        \"이 레스토랑의 시그니처 메뉴는 무엇인가요?\",\n",
    "        \"연어 요리는 무엇이고 가격은 얼마인가요?\",\n",
    "        \"채식주의자를 위한 메뉴 추천해주세요.\",\n",
    "    ],\n",
    "    cache_examples=False,\n",
    "    retry_btn=None,\n",
    "    undo_btn=\"이전 삭제\",\n",
    "    clear_btn=\"모두 지우기\",\n",
    ")\n",
    "\n",
    "iface.launch()"
   ]
  },
  {
   "cell_type": "code",
   "execution_count": 43,
   "metadata": {},
   "outputs": [
    {
     "name": "stdout",
     "output_type": "stream",
     "text": [
      "Closing server running on port: 7860\n"
     ]
    }
   ],
   "source": [
    "iface.close()"
   ]
  },
  {
   "cell_type": "code",
   "execution_count": null,
   "metadata": {},
   "outputs": [],
   "source": []
  }
 ],
 "metadata": {
  "kernelspec": {
   "display_name": "langchian_basic",
   "language": "python",
   "name": "python3"
  },
  "language_info": {
   "codemirror_mode": {
    "name": "ipython",
    "version": 3
   },
   "file_extension": ".py",
   "mimetype": "text/x-python",
   "name": "python",
   "nbconvert_exporter": "python",
   "pygments_lexer": "ipython3",
   "version": "3.12.1"
  }
 },
 "nbformat": 4,
 "nbformat_minor": 2
}
