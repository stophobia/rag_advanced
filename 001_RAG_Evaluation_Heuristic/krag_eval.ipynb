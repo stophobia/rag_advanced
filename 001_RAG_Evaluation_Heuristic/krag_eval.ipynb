{
 "cells": [
  {
   "cell_type": "code",
   "execution_count": null,
   "metadata": {},
   "outputs": [],
   "source": [
    "# krag 0.0.17 버전을 설치 (현재 버전을 사용할 경우 업데이트 차이에 따른 에러 발생)\n",
    "!pip install krag==0.0.17"
   ]
  },
  {
   "cell_type": "code",
   "execution_count": 1,
   "metadata": {},
   "outputs": [
    {
     "data": {
      "text/plain": [
       "True"
      ]
     },
     "execution_count": 1,
     "metadata": {},
     "output_type": "execute_result"
    }
   ],
   "source": [
    "# .env 파일\n",
    "from dotenv import load_dotenv\n",
    "load_dotenv()"
   ]
  },
  {
   "cell_type": "markdown",
   "metadata": {},
   "source": [
    "## K-RAG 패키지 \n",
    "- pip isntall krag\n",
    "- Hit Rate, MRR, Recall@k, Precision@k, mAP@k, NDCG@k 계산"
   ]
  },
  {
   "cell_type": "code",
   "execution_count": 12,
   "metadata": {},
   "outputs": [
    {
     "name": "stdout",
     "output_type": "stream",
     "text": [
      "Hit Rate (All): 1.0\n",
      "MRR (All): 0.41666666666666663\n",
      "Recall (All): 1.0\n",
      "Precision (All): 0.45\n",
      "MAP (All): 0.43333333333333335\n",
      "NDCG (All): 0.5873505313617415\n"
     ]
    }
   ],
   "source": [
    "from krag.document import KragDocument \n",
    "from krag.evaluators import OfflineRetrievalEvaluators\n",
    "\n",
    "# 각 쿼리에 대한 정답 문서 \n",
    "actual_docs = [\n",
    "    # Query 1\n",
    "    [\n",
    "        KragDocument(metadata={'id': 1}, page_content='물건을 구매했습니다.'),\n",
    "    ],\n",
    "    # Query 2\n",
    "    [\n",
    "        KragDocument(metadata={'id': 2}, page_content='회의가 내일 있습니다.'),\n",
    "        KragDocument(metadata={'id': 3}, page_content='오늘 날씨가 맑습니다.'),\n",
    "    ],\n",
    "]\n",
    "\n",
    "# 각 쿼리에 대한 검색 결과 \n",
    "predicted_docs = [\n",
    "    # Query 1\n",
    "    [\n",
    "        KragDocument(metadata={'id': 4}, page_content='책을 읽고 있습니다.'),\n",
    "        KragDocument(metadata={'id': 1}, page_content='물건을 구매했습니다.'),\n",
    "    ],\n",
    "\n",
    "    # Query 2\n",
    "    [\n",
    "        KragDocument(metadata={'id': 4}, page_content='책을 읽고 있습니다.'),\n",
    "        KragDocument(metadata={'id': 1}, page_content='물건을 구매했습니다.'),\n",
    "        KragDocument(metadata={'id': 2}, page_content='회의가 내일 있습니다.'),\n",
    "        KragDocument(metadata={'id': 5}, page_content='점심을 먹으러 갑니다.'),\n",
    "        KragDocument(metadata={'id': 3}, page_content='오늘 날씨가 맑습니다.'),\n",
    "    ],\n",
    "]\n",
    "\n",
    "\n",
    "# 평가도구 초기화 \n",
    "evaluator = OfflineRetrievalEvaluators(actual_docs, predicted_docs, match_method=\"text\")\n",
    "\n",
    "# k=None (전체 문서)일 때 평가지표 계산\n",
    "hit_rate_all = evaluator.calculate_hit_rate()\n",
    "mrr_all = evaluator.calculate_mrr()\n",
    "recall_all = evaluator.calculate_recall()\n",
    "precision_all = evaluator.calculate_precision()\n",
    "map_all = evaluator.calculate_map()\n",
    "ndcg_all = evaluator.calculate_ndcg()\n",
    "\n",
    "print(f\"Hit Rate (All): {hit_rate_all}\")\n",
    "print(f\"MRR (All): {mrr_all}\")\n",
    "print(f\"Recall (All): {recall_all}\")\n",
    "print(f\"Precision (All): {precision_all}\")\n",
    "print(f\"MAP (All): {map_all}\")\n",
    "print(f\"NDCG (All): {ndcg_all}\")"
   ]
  },
  {
   "cell_type": "code",
   "execution_count": 13,
   "metadata": {},
   "outputs": [
    {
     "name": "stdout",
     "output_type": "stream",
     "text": [
      "Hit Rate (k=2): 0.5\n",
      "MRR (k=2): 0.25\n",
      "Recall (k=2): 0.3333333333333333\n",
      "Precision (k=2): 0.25\n",
      "MAP (k=2): 0.25\n",
      "NDCG (k=2): 0.31546487678572877\n"
     ]
    }
   ],
   "source": [
    "## k=2일 때 평가지표 계산\n",
    "\n",
    "hit_rate_k2 = evaluator.calculate_hit_rate(k=2)\n",
    "mrr_k2 = evaluator.calculate_mrr(k=2)\n",
    "recall_k2 = evaluator.calculate_recall(k=2)\n",
    "precision_k2 = evaluator.calculate_precision(k=2)\n",
    "map_k2 = evaluator.calculate_map(k=2)\n",
    "ndcg_k2 = evaluator.calculate_ndcg(k=2)\n",
    "\n",
    "print(f\"Hit Rate (k=2): {hit_rate_k2}\")\n",
    "print(f\"MRR (k=2): {mrr_k2}\")\n",
    "print(f\"Recall (k=2): {recall_k2}\")\n",
    "print(f\"Precision (k=2): {precision_k2}\")\n",
    "print(f\"MAP (k=2): {map_k2}\")\n",
    "print(f\"NDCG (k=2): {ndcg_k2}\")"
   ]
  },
  {
   "cell_type": "code",
   "execution_count": 14,
   "metadata": {},
   "outputs": [
    {
     "name": "stdout",
     "output_type": "stream",
     "text": [
      "Hit Rate (All): 1.0\n",
      "MRR (All): 0.75\n",
      "Recall (All): 1.0\n",
      "Precision (All): 0.8333333333333333\n",
      "MAP (All): 0.7916666666666666\n",
      "NDCG (All): 0.8467132018086354\n"
     ]
    }
   ],
   "source": [
    "from krag.document import KragDocument \n",
    "from krag.evaluators import OfflineRetrievalEvaluators\n",
    "\n",
    "# 각 쿼리에 대한 정답 문서 \n",
    "actual_docs = [\n",
    "    # Query 1\n",
    "    [\n",
    "        KragDocument(metadata={'id': 1}, page_content='물건을 구매했습니다.'),\n",
    "    ],\n",
    "    # Query 2\n",
    "    [\n",
    "        KragDocument(metadata={'id': 2}, page_content='회의가 내일 있습니다.'),\n",
    "        KragDocument(metadata={'id': 3}, page_content='오늘 날씨가 맑습니다.'),\n",
    "    ],\n",
    "]\n",
    "\n",
    "# 각 쿼리에 대한 검색 결과 \n",
    "predicted_docs = [\n",
    "    # Query 1\n",
    "    [\n",
    "        KragDocument(metadata={'id': 41}, page_content='책을 읽고 있습니다. 물건을 구매했습니다.'),\n",
    "    ],\n",
    "\n",
    "    # Query 2\n",
    "    [\n",
    "        KragDocument(metadata={'id': 41}, page_content='책을 읽고 있습니다. 물건을 구매했습니다.'),\n",
    "        KragDocument(metadata={'id': 2}, page_content='회의가 내일 있습니다.'),\n",
    "        KragDocument(metadata={'id': 35}, page_content='오늘 날씨가 맑습니다. 점심을 먹으러 갑니다.'),\n",
    "    ],\n",
    "]\n",
    "\n",
    "\n",
    "# 평가도구 초기화 \n",
    "evaluator = OfflineRetrievalEvaluators(actual_docs, predicted_docs, match_method=\"text\")\n",
    "\n",
    "# Calculate evaluation metrics / 평가지표 계산 \n",
    "## k=None (전체 문서)일 때 평가지표 계산\n",
    "hit_rate_all = evaluator.calculate_hit_rate()\n",
    "mrr_all = evaluator.calculate_mrr()\n",
    "recall_all = evaluator.calculate_recall()\n",
    "precision_all = evaluator.calculate_precision()\n",
    "map_all = evaluator.calculate_map()\n",
    "ndcg_all = evaluator.calculate_ndcg()\n",
    "\n",
    "print(f\"Hit Rate (All): {hit_rate_all}\")\n",
    "print(f\"MRR (All): {mrr_all}\")\n",
    "print(f\"Recall (All): {recall_all}\")\n",
    "print(f\"Precision (All): {precision_all}\")\n",
    "print(f\"MAP (All): {map_all}\")\n",
    "print(f\"NDCG (All): {ndcg_all}\")"
   ]
  },
  {
   "cell_type": "code",
   "execution_count": 15,
   "metadata": {},
   "outputs": [
    {
     "name": "stdout",
     "output_type": "stream",
     "text": [
      "Hit Rate (k=2): 0.5\n",
      "MRR (k=2): 0.75\n",
      "Recall (k=2): 0.6666666666666666\n",
      "Precision (k=2): 0.75\n",
      "MAP (k=2): 0.75\n",
      "NDCG (k=2): 0.8154648767857288\n"
     ]
    }
   ],
   "source": [
    "## k=2일 때 평가지표 계산\n",
    "\n",
    "hit_rate_k2 = evaluator.calculate_hit_rate(k=2)\n",
    "mrr_k2 = evaluator.calculate_mrr(k=2)\n",
    "recall_k2 = evaluator.calculate_recall(k=2)\n",
    "precision_k2 = evaluator.calculate_precision(k=2)\n",
    "map_k2 = evaluator.calculate_map(k=2)\n",
    "ndcg_k2 = evaluator.calculate_ndcg(k=2)\n",
    "\n",
    "print(f\"Hit Rate (k=2): {hit_rate_k2}\")\n",
    "print(f\"MRR (k=2): {mrr_k2}\")\n",
    "print(f\"Recall (k=2): {recall_k2}\")\n",
    "print(f\"Precision (k=2): {precision_k2}\")\n",
    "print(f\"MAP (k=2): {map_k2}\")\n",
    "print(f\"NDCG (k=2): {ndcg_k2}\")"
   ]
  },
  {
   "cell_type": "code",
   "execution_count": 151,
   "metadata": {},
   "outputs": [
    {
     "name": "stdout",
     "output_type": "stream",
     "text": [
      "Hit Rate (All): 0.0\n",
      "MRR (All): 0.0\n",
      "Recall (All): 0.0\n",
      "Precision (All): 0.0\n",
      "MAP (All): 0.0\n",
      "NDCG (All): 0.0\n"
     ]
    }
   ],
   "source": [
    "from krag.document import KragDocument \n",
    "from krag.evaluators import OfflineRetrievalEvaluators\n",
    "\n",
    "# 각 쿼리에 대한 정답 문서 \n",
    "actual_docs = [\n",
    "    # Query 1\n",
    "    [\n",
    "        KragDocument(metadata={'id': 1}, page_content='물건을 구매했습니다.'),\n",
    "    ],\n",
    "    # Query 2\n",
    "    [\n",
    "        KragDocument(metadata={'id': 2}, page_content='회의가 내일 있습니다.'),\n",
    "        KragDocument(metadata={'id': 3}, page_content='오늘 날씨가 맑습니다.'),\n",
    "    ],\n",
    "]\n",
    "\n",
    "# 각 쿼리에 대한 검색 결과 \n",
    "predicted_docs = [\n",
    "    # Query 1\n",
    "    [\n",
    "        KragDocument(metadata={'id': 10}, page_content='물건을 구매했어요.'),\n",
    "    ],\n",
    "\n",
    "    # Query 2\n",
    "    [\n",
    "        KragDocument(metadata={'id': 10}, page_content='물건을 구매했어요.'),\n",
    "        KragDocument(metadata={'id': 20}, page_content='회의가 내일 있어요.'),\n",
    "        KragDocument(metadata={'id': 30}, page_content='오늘 날씨가 맑아요.'),\n",
    "    ],\n",
    "]\n",
    "\n",
    "\n",
    "# 평가도구 초기화 \n",
    "evaluator = OfflineRetrievalEvaluators(actual_docs, predicted_docs, match_method=\"text\")\n",
    "\n",
    "# Calculate evaluation metrics / 평가지표 계산 \n",
    "## k=None (전체 문서)일 때 평가지표 계산\n",
    "hit_rate_all = evaluator.calculate_hit_rate()\n",
    "mrr_all = evaluator.calculate_mrr()\n",
    "recall_all = evaluator.calculate_recall()\n",
    "precision_all = evaluator.calculate_precision()\n",
    "map_all = evaluator.calculate_map()\n",
    "ndcg_all = evaluator.calculate_ndcg()\n",
    "\n",
    "print(f\"Hit Rate (All): {hit_rate_all}\")\n",
    "print(f\"MRR (All): {mrr_all}\")\n",
    "print(f\"Recall (All): {recall_all}\")\n",
    "print(f\"Precision (All): {precision_all}\")\n",
    "print(f\"MAP (All): {map_all}\")\n",
    "print(f\"NDCG (All): {ndcg_all}\")"
   ]
  },
  {
   "cell_type": "code",
   "execution_count": 152,
   "metadata": {},
   "outputs": [
    {
     "name": "stdout",
     "output_type": "stream",
     "text": [
      "Hit Rate (All): 1.0\n",
      "MRR (All): 0.75\n",
      "Recall (All): 1.0\n",
      "Precision (All): 0.8333333333333333\n",
      "MAP (All): 0.7916666666666666\n",
      "NDCG (All): 0.8467132018086354\n"
     ]
    }
   ],
   "source": [
    "from krag.document import KragDocument\n",
    "from krag.evaluators import RougeOfflineRetrievalEvaluators\n",
    "\n",
    "# Initialize the evaluator with ROUGE matching / ROUGE 매칭을 사용한 평가도구 초기화 \n",
    "evaluator = RougeOfflineRetrievalEvaluators(actual_docs, predicted_docs, match_method=\"rouge1\", threshold=0.5)\n",
    "\n",
    "# Calculate evaluation metrics / 평가지표 계산 \n",
    "## k=None (전체 문서)일 때 평가지표 계산\n",
    "hit_rate_all = evaluator.calculate_hit_rate()\n",
    "mrr_all = evaluator.calculate_mrr()\n",
    "recall_all = evaluator.calculate_recall()\n",
    "precision_all = evaluator.calculate_precision()\n",
    "map_all = evaluator.calculate_map()\n",
    "ndcg_all = evaluator.calculate_ndcg()\n",
    "\n",
    "print(f\"Hit Rate (All): {hit_rate_all}\")\n",
    "print(f\"MRR (All): {mrr_all}\")\n",
    "print(f\"Recall (All): {recall_all}\")\n",
    "print(f\"Precision (All): {precision_all}\")\n",
    "print(f\"MAP (All): {map_all}\")\n",
    "print(f\"NDCG (All): {ndcg_all}\")"
   ]
  },
  {
   "cell_type": "code",
   "execution_count": 153,
   "metadata": {},
   "outputs": [
    {
     "name": "stdout",
     "output_type": "stream",
     "text": [
      "Hit Rate (k=2): 0.5\n",
      "MRR (k=2): 0.75\n",
      "Recall (k=2): 0.6666666666666666\n",
      "Precision (k=2): 0.75\n",
      "MAP (k=2): 0.75\n",
      "NDCG (k=2): 0.8154648767857287\n"
     ]
    }
   ],
   "source": [
    "## k=2일 때 평가지표 계산\n",
    "\n",
    "hit_rate_k2 = evaluator.calculate_hit_rate(k=2)\n",
    "mrr_k2 = evaluator.calculate_mrr(k=2)\n",
    "recall_k2 = evaluator.calculate_recall(k=2)\n",
    "precision_k2 = evaluator.calculate_precision(k=2)\n",
    "map_k2 = evaluator.calculate_map(k=2)\n",
    "ndcg_k2 = evaluator.calculate_ndcg(k=2)\n",
    "\n",
    "print(f\"Hit Rate (k=2): {hit_rate_k2}\")\n",
    "print(f\"MRR (k=2): {mrr_k2}\")\n",
    "print(f\"Recall (k=2): {recall_k2}\")\n",
    "print(f\"Precision (k=2): {precision_k2}\")\n",
    "print(f\"MAP (k=2): {map_k2}\")\n",
    "print(f\"NDCG (k=2): {ndcg_k2}\")"
   ]
  },
  {
   "cell_type": "markdown",
   "metadata": {},
   "source": [
    "## 1. Data 준비"
   ]
  },
  {
   "cell_type": "markdown",
   "metadata": {},
   "source": [
    "`(1) Documents 로드`"
   ]
  },
  {
   "cell_type": "code",
   "execution_count": 33,
   "metadata": {},
   "outputs": [
    {
     "name": "stdout",
     "output_type": "stream",
     "text": [
      "<class 'list'>\n",
      "1\n"
     ]
    }
   ],
   "source": [
    "# 문서를 로드\n",
    "from langchain_community.document_loaders import TextLoader\n",
    "\n",
    "loader = TextLoader('Rivian.txt', encoding='utf-8')\n",
    "data = loader.load()\n",
    "\n",
    "print(type(data))\n",
    "print(len(data))"
   ]
  },
  {
   "cell_type": "code",
   "execution_count": 34,
   "metadata": {},
   "outputs": [
    {
     "data": {
      "text/plain": [
       "Document(metadata={'source': 'Rivian.txt'}, page_content='리비안은 MIT 박사 출신 RJ 스카린지가 2009년에 설립한 혁신적인 미국 전기차 제조업체입니다. 2011년부터 자율 전기차에 집중한 리비안은 2015년 대규모 투자를 통해 크게 성장하며 미시간과 베이 지역에 연구소를 설립했습니다. 주요 공급업체와의 접근성을 높이기 위해 본사를 미시간주 리보니아로 이전했습니다.\\n\\n리비안의 초기 모델은 스포츠카 R1(원래 이름은 Avera)로, 2+2 좌석의 미드 엔진 하이브리드 쿠페로 피터 스티븐스가 디자인했습니다. 이 차는 쉽게 교체 가능한 본체 패널을 갖춘 모듈식 캡슐 구조를 특징으로 하며, 2013년 말에서 2014년 초 사이에 생산이 예상되었습니다. 리비안은 디젤 하이브리드 버전, 브라질 원메이크 시리즈를 위한 R1 GT 레이싱 버전, 4도어 세단 및 크로스오버 등 다양한 버전을 고려했습니다. 2011년에 프로토타입 해치백도 공개되었지만, R1과의 관계는 불명확합니다.\\n\\n리비안은 2021년 10월 첫 번째 양산 차량인 R1T 트럭을 고객에게 인도하기 시작했습니다.\\n')"
      ]
     },
     "execution_count": 34,
     "metadata": {},
     "output_type": "execute_result"
    }
   ],
   "source": [
    "data[0]"
   ]
  },
  {
   "cell_type": "code",
   "execution_count": 35,
   "metadata": {},
   "outputs": [
    {
     "data": {
      "text/plain": [
       "514"
      ]
     },
     "execution_count": 35,
     "metadata": {},
     "output_type": "execute_result"
    }
   ],
   "source": [
    "len(data[0].page_content)"
   ]
  },
  {
   "cell_type": "code",
   "execution_count": 82,
   "metadata": {},
   "outputs": [
    {
     "data": {
      "text/plain": [
       "11"
      ]
     },
     "execution_count": 82,
     "metadata": {},
     "output_type": "execute_result"
    }
   ],
   "source": [
    "# 문장을 구분하여 분할 \n",
    "from langchain_text_splitters import RecursiveCharacterTextSplitter\n",
    "\n",
    "text_splitter = RecursiveCharacterTextSplitter.from_tiktoken_encoder(\n",
    "    model_name=\"text-embedding-3-small\",\n",
    "    chunk_size=60,\n",
    "    chunk_overlap=10,\n",
    ")\n",
    "\n",
    "docs = text_splitter.split_documents(data)\n",
    "\n",
    "len(docs)"
   ]
  },
  {
   "cell_type": "code",
   "execution_count": 83,
   "metadata": {},
   "outputs": [
    {
     "data": {
      "text/html": [
       "<div>\n",
       "<style scoped>\n",
       "    .dataframe tbody tr th:only-of-type {\n",
       "        vertical-align: middle;\n",
       "    }\n",
       "\n",
       "    .dataframe tbody tr th {\n",
       "        vertical-align: top;\n",
       "    }\n",
       "\n",
       "    .dataframe thead th {\n",
       "        text-align: right;\n",
       "    }\n",
       "</style>\n",
       "<table border=\"1\" class=\"dataframe\">\n",
       "  <thead>\n",
       "    <tr style=\"text-align: right;\">\n",
       "      <th></th>\n",
       "      <th>context</th>\n",
       "      <th>metadata</th>\n",
       "    </tr>\n",
       "  </thead>\n",
       "  <tbody>\n",
       "    <tr>\n",
       "      <th>0</th>\n",
       "      <td>[리비안은 MIT 박사 출신 RJ 스카린지가 2009년에 설립한 혁신적인 미국 전기...</td>\n",
       "      <td>[{'source': 'Rivian.txt', 'doc_id': 0}]</td>\n",
       "    </tr>\n",
       "    <tr>\n",
       "      <th>1</th>\n",
       "      <td>[2011년부터 자율 전기차에 집중한 리비안은 2015년 대규모 투자를 통해 크게 ...</td>\n",
       "      <td>[{'source': 'Rivian.txt', 'doc_id': 1}]</td>\n",
       "    </tr>\n",
       "    <tr>\n",
       "      <th>2</th>\n",
       "      <td>[미시간과 베이 지역에 연구소를 설립했습니다. 주요 공급업체와의 접근성을 높이기 위...</td>\n",
       "      <td>[{'source': 'Rivian.txt', 'doc_id': 2}]</td>\n",
       "    </tr>\n",
       "    <tr>\n",
       "      <th>3</th>\n",
       "      <td>[본사를 미시간주 리보니아로 이전했습니다.]</td>\n",
       "      <td>[{'source': 'Rivian.txt', 'doc_id': 3}]</td>\n",
       "    </tr>\n",
       "    <tr>\n",
       "      <th>4</th>\n",
       "      <td>[리비안의 초기 모델은 스포츠카 R1(원래 이름은 Avera)로, 2+2 좌석의 미...</td>\n",
       "      <td>[{'source': 'Rivian.txt', 'doc_id': 4}]</td>\n",
       "    </tr>\n",
       "    <tr>\n",
       "      <th>5</th>\n",
       "      <td>[엔진 하이브리드 쿠페로 피터 스티븐스가 디자인했습니다. 이 차는 쉽게 교체 가능한...</td>\n",
       "      <td>[{'source': 'Rivian.txt', 'doc_id': 5}]</td>\n",
       "    </tr>\n",
       "    <tr>\n",
       "      <th>6</th>\n",
       "      <td>[가능한 본체 패널을 갖춘 모듈식 캡슐 구조를 특징으로 하며, 2013년 말에서 2...</td>\n",
       "      <td>[{'source': 'Rivian.txt', 'doc_id': 6}]</td>\n",
       "    </tr>\n",
       "    <tr>\n",
       "      <th>7</th>\n",
       "      <td>[초 사이에 생산이 예상되었습니다. 리비안은 디젤 하이브리드 버전, 브라질 원메이크...</td>\n",
       "      <td>[{'source': 'Rivian.txt', 'doc_id': 7}]</td>\n",
       "    </tr>\n",
       "    <tr>\n",
       "      <th>8</th>\n",
       "      <td>[R1 GT 레이싱 버전, 4도어 세단 및 크로스오버 등 다양한 버전을 고려했습니다...</td>\n",
       "      <td>[{'source': 'Rivian.txt', 'doc_id': 8}]</td>\n",
       "    </tr>\n",
       "    <tr>\n",
       "      <th>9</th>\n",
       "      <td>[프로토타입 해치백도 공개되었지만, R1과의 관계는 불명확합니다.]</td>\n",
       "      <td>[{'source': 'Rivian.txt', 'doc_id': 9}]</td>\n",
       "    </tr>\n",
       "    <tr>\n",
       "      <th>10</th>\n",
       "      <td>[리비안은 2021년 10월 첫 번째 양산 차량인 R1T 트럭을 고객에게 인도하기 ...</td>\n",
       "      <td>[{'source': 'Rivian.txt', 'doc_id': 10}]</td>\n",
       "    </tr>\n",
       "  </tbody>\n",
       "</table>\n",
       "</div>"
      ],
      "text/plain": [
       "                                              context  \\\n",
       "0   [리비안은 MIT 박사 출신 RJ 스카린지가 2009년에 설립한 혁신적인 미국 전기...   \n",
       "1   [2011년부터 자율 전기차에 집중한 리비안은 2015년 대규모 투자를 통해 크게 ...   \n",
       "2   [미시간과 베이 지역에 연구소를 설립했습니다. 주요 공급업체와의 접근성을 높이기 위...   \n",
       "3                            [본사를 미시간주 리보니아로 이전했습니다.]   \n",
       "4   [리비안의 초기 모델은 스포츠카 R1(원래 이름은 Avera)로, 2+2 좌석의 미...   \n",
       "5   [엔진 하이브리드 쿠페로 피터 스티븐스가 디자인했습니다. 이 차는 쉽게 교체 가능한...   \n",
       "6   [가능한 본체 패널을 갖춘 모듈식 캡슐 구조를 특징으로 하며, 2013년 말에서 2...   \n",
       "7   [초 사이에 생산이 예상되었습니다. 리비안은 디젤 하이브리드 버전, 브라질 원메이크...   \n",
       "8   [R1 GT 레이싱 버전, 4도어 세단 및 크로스오버 등 다양한 버전을 고려했습니다...   \n",
       "9               [프로토타입 해치백도 공개되었지만, R1과의 관계는 불명확합니다.]   \n",
       "10  [리비안은 2021년 10월 첫 번째 양산 차량인 R1T 트럭을 고객에게 인도하기 ...   \n",
       "\n",
       "                                    metadata  \n",
       "0    [{'source': 'Rivian.txt', 'doc_id': 0}]  \n",
       "1    [{'source': 'Rivian.txt', 'doc_id': 1}]  \n",
       "2    [{'source': 'Rivian.txt', 'doc_id': 2}]  \n",
       "3    [{'source': 'Rivian.txt', 'doc_id': 3}]  \n",
       "4    [{'source': 'Rivian.txt', 'doc_id': 4}]  \n",
       "5    [{'source': 'Rivian.txt', 'doc_id': 5}]  \n",
       "6    [{'source': 'Rivian.txt', 'doc_id': 6}]  \n",
       "7    [{'source': 'Rivian.txt', 'doc_id': 7}]  \n",
       "8    [{'source': 'Rivian.txt', 'doc_id': 8}]  \n",
       "9    [{'source': 'Rivian.txt', 'doc_id': 9}]  \n",
       "10  [{'source': 'Rivian.txt', 'doc_id': 10}]  "
      ]
     },
     "execution_count": 83,
     "metadata": {},
     "output_type": "execute_result"
    }
   ],
   "source": [
    "# 데이터프레임으로 변환\n",
    "import pandas as pd\n",
    "\n",
    "test_data = []\n",
    "for i, doc in enumerate(docs):\n",
    "    metadata = doc.metadata\n",
    "    metadata.update({'doc_id': i})\n",
    "    test_data.append({\n",
    "        'context': [doc.page_content],\n",
    "        'metadata': [metadata],\n",
    "    })\n",
    "\n",
    "df_test = pd.DataFrame(test_data)\n",
    "\n",
    "df_test"
   ]
  },
  {
   "cell_type": "code",
   "execution_count": 84,
   "metadata": {},
   "outputs": [
    {
     "data": {
      "text/plain": [
       "'리비안은 MIT 박사 출신 RJ 스카린지가 2009년에 설립한 혁신적인 미국 전기차 제조업체입니다. 2011년부터'"
      ]
     },
     "execution_count": 84,
     "metadata": {},
     "output_type": "execute_result"
    }
   ],
   "source": [
    "context = \" \".join(df_test['context'][0])\n",
    "\n",
    "context"
   ]
  },
  {
   "cell_type": "markdown",
   "metadata": {},
   "source": [
    "`(2) question - answer 합성`"
   ]
  },
  {
   "cell_type": "code",
   "execution_count": 85,
   "metadata": {},
   "outputs": [],
   "source": [
    "# Structured Output\n",
    "from langchain_core.pydantic_v1 import BaseModel, Field\n",
    "from typing import List\n",
    "\n",
    "class QA(BaseModel):\n",
    "    \"\"\"Information about a question-answer pair.\"\"\"\n",
    "    question: str = Field(description=\"Question\")\n",
    "    answer: str = Field(description=\"Answer\")\n",
    "\n",
    "class QAData(BaseModel):\n",
    "    \"\"\"Extracted data about question-answer pairs.\"\"\"\n",
    "    data: List[QA]"
   ]
  },
  {
   "cell_type": "code",
   "execution_count": 86,
   "metadata": {},
   "outputs": [
    {
     "data": {
      "text/plain": [
       "QAData(data=[QA(question='리비안은 언제 설립되었나요?', answer='리비안은 2009년에 설립되었습니다.'), QA(question='리비안의 설립자는 누구인가요?', answer='리비안의 설립자는 MIT 박사 출신 RJ 스카린지입니다.')])"
      ]
     },
     "execution_count": 86,
     "metadata": {},
     "output_type": "execute_result"
    }
   ],
   "source": [
    "from langchain_openai import ChatOpenAI\n",
    "from langchain_core.prompts import ChatPromptTemplate\n",
    "\n",
    "model = ChatOpenAI(\n",
    "    model=\"gpt-4o-mini\",\n",
    "    max_tokens=200,\n",
    "    temperature=0,\n",
    ")\n",
    "\n",
    "qa_generator = model.with_structured_output(QAData)\n",
    "\n",
    "# QA 생성 템플릿\n",
    "system = \"\"\"Your task is to create {num_questions_per_chunk} fact-based question-answer pairs based on the provided context.\n",
    "Each fact-based question should be answerable with a specific, concise piece of factual information from the context.\n",
    "Avoid including phrases like \"according to the passage\" or \"based on the context\" in your questions.\n",
    "Ensure that the answer includes the essence of the question to provide clear and complete information..\"\"\"\n",
    "\n",
    "QA_generation_prompt = ChatPromptTemplate.from_messages(\n",
    "    [\n",
    "        (\"system\", system),\n",
    "        (\"human\", \"Context: {context}\\nOutput (Provide a complete sentence in KOREAN):\"),\n",
    "    ]\n",
    ")\n",
    "\n",
    "QA_generate_chain = QA_generation_prompt | qa_generator\n",
    "response = QA_generate_chain.invoke({\"context\":context, \"num_questions_per_chunk\":2})\n",
    "\n",
    "response"
   ]
  },
  {
   "cell_type": "code",
   "execution_count": 87,
   "metadata": {},
   "outputs": [
    {
     "data": {
      "text/plain": [
       "[QA(question='리비안은 언제 설립되었나요?', answer='리비안은 2009년에 설립되었습니다.'),\n",
       " QA(question='리비안의 설립자는 누구인가요?', answer='리비안의 설립자는 MIT 박사 출신 RJ 스카린지입니다.')]"
      ]
     },
     "execution_count": 87,
     "metadata": {},
     "output_type": "execute_result"
    }
   ],
   "source": [
    "response.data"
   ]
  },
  {
   "cell_type": "code",
   "execution_count": 88,
   "metadata": {},
   "outputs": [
    {
     "name": "stdout",
     "output_type": "stream",
     "text": [
      "(22, 4)\n"
     ]
    },
    {
     "data": {
      "text/html": [
       "<div>\n",
       "<style scoped>\n",
       "    .dataframe tbody tr th:only-of-type {\n",
       "        vertical-align: middle;\n",
       "    }\n",
       "\n",
       "    .dataframe tbody tr th {\n",
       "        vertical-align: top;\n",
       "    }\n",
       "\n",
       "    .dataframe thead th {\n",
       "        text-align: right;\n",
       "    }\n",
       "</style>\n",
       "<table border=\"1\" class=\"dataframe\">\n",
       "  <thead>\n",
       "    <tr style=\"text-align: right;\">\n",
       "      <th></th>\n",
       "      <th>context</th>\n",
       "      <th>question</th>\n",
       "      <th>answer</th>\n",
       "      <th>metadata</th>\n",
       "    </tr>\n",
       "  </thead>\n",
       "  <tbody>\n",
       "    <tr>\n",
       "      <th>0</th>\n",
       "      <td>[리비안은 MIT 박사 출신 RJ 스카린지가 2009년에 설립한 혁신적인 미국 전기...</td>\n",
       "      <td>리 비 안의 설립 연도는 언제인가요?</td>\n",
       "      <td>리 비 안은 2009년에 설립되었습니다.</td>\n",
       "      <td>[{'source': 'Rivian.txt', 'doc_id': 0}]</td>\n",
       "    </tr>\n",
       "    <tr>\n",
       "      <th>1</th>\n",
       "      <td>[리비안은 MIT 박사 출신 RJ 스카린지가 2009년에 설립한 혁신적인 미국 전기...</td>\n",
       "      <td>리 비 안의 창립자는 누구인가요?</td>\n",
       "      <td>리 비 안의 창립자는 R J 스카린지입니다.</td>\n",
       "      <td>[{'source': 'Rivian.txt', 'doc_id': 0}]</td>\n",
       "    </tr>\n",
       "    <tr>\n",
       "      <th>2</th>\n",
       "      <td>[2011년부터 자율 전기차에 집중한 리비안은 2015년 대규모 투자를 통해 크게 ...</td>\n",
       "      <td>자율 전기차에 집중한 리비안은 언제부터 시작했나요?</td>\n",
       "      <td>리비안은 2011년부터 자율 전기차에 집중하기 시작했습니다.</td>\n",
       "      <td>[{'source': 'Rivian.txt', 'doc_id': 1}]</td>\n",
       "    </tr>\n",
       "    <tr>\n",
       "      <th>3</th>\n",
       "      <td>[2011년부터 자율 전기차에 집중한 리비안은 2015년 대규모 투자를 통해 크게 ...</td>\n",
       "      <td>리비안은 어떤 방식으로 성장했나요?</td>\n",
       "      <td>리비안은 2015년 대규모 투자를 통해 크게 성장했습니다.</td>\n",
       "      <td>[{'source': 'Rivian.txt', 'doc_id': 1}]</td>\n",
       "    </tr>\n",
       "    <tr>\n",
       "      <th>4</th>\n",
       "      <td>[미시간과 베이 지역에 연구소를 설립했습니다. 주요 공급업체와의 접근성을 높이기 위...</td>\n",
       "      <td>미시간 주에 설립된 연구소의 목적은 무엇인가요?</td>\n",
       "      <td>주요 공급 업체와의 접근성을 높이기 위해 설립되었습니다.</td>\n",
       "      <td>[{'source': 'Rivian.txt', 'doc_id': 2}]</td>\n",
       "    </tr>\n",
       "  </tbody>\n",
       "</table>\n",
       "</div>"
      ],
      "text/plain": [
       "                                             context  \\\n",
       "0  [리비안은 MIT 박사 출신 RJ 스카린지가 2009년에 설립한 혁신적인 미국 전기...   \n",
       "1  [리비안은 MIT 박사 출신 RJ 스카린지가 2009년에 설립한 혁신적인 미국 전기...   \n",
       "2  [2011년부터 자율 전기차에 집중한 리비안은 2015년 대규모 투자를 통해 크게 ...   \n",
       "3  [2011년부터 자율 전기차에 집중한 리비안은 2015년 대규모 투자를 통해 크게 ...   \n",
       "4  [미시간과 베이 지역에 연구소를 설립했습니다. 주요 공급업체와의 접근성을 높이기 위...   \n",
       "\n",
       "                       question                             answer  \\\n",
       "0          리 비 안의 설립 연도는 언제인가요?             리 비 안은 2009년에 설립되었습니다.   \n",
       "1            리 비 안의 창립자는 누구인가요?           리 비 안의 창립자는 R J 스카린지입니다.   \n",
       "2  자율 전기차에 집중한 리비안은 언제부터 시작했나요?  리비안은 2011년부터 자율 전기차에 집중하기 시작했습니다.   \n",
       "3           리비안은 어떤 방식으로 성장했나요?   리비안은 2015년 대규모 투자를 통해 크게 성장했습니다.   \n",
       "4    미시간 주에 설립된 연구소의 목적은 무엇인가요?    주요 공급 업체와의 접근성을 높이기 위해 설립되었습니다.   \n",
       "\n",
       "                                  metadata  \n",
       "0  [{'source': 'Rivian.txt', 'doc_id': 0}]  \n",
       "1  [{'source': 'Rivian.txt', 'doc_id': 0}]  \n",
       "2  [{'source': 'Rivian.txt', 'doc_id': 1}]  \n",
       "3  [{'source': 'Rivian.txt', 'doc_id': 1}]  \n",
       "4  [{'source': 'Rivian.txt', 'doc_id': 2}]  "
      ]
     },
     "execution_count": 88,
     "metadata": {},
     "output_type": "execute_result"
    }
   ],
   "source": [
    "# 전체 문서에 대해 QA 생성 - Chunk 당 2개의 질문-답변 쌍 생성\n",
    "\n",
    "NUM_QUESTIONS_PER_CHUNK = 2\n",
    "outputs = []\n",
    "for row in df_test.iterrows():\n",
    "\n",
    "    context = \" \".join(row[1]['context'][0])\n",
    "\n",
    "    response = QA_generate_chain.invoke({\"context\":context, \"num_questions_per_chunk\":NUM_QUESTIONS_PER_CHUNK})\n",
    "\n",
    "    try:\n",
    "        matches = [(qa.question, qa.answer) for qa in response.data]\n",
    "        outputs += [{\n",
    "            \"context\": row[1]['context'],\n",
    "            \"question\": q.strip(), \n",
    "            \"answer\": a.strip(),\n",
    "            \"metadata\": row[1]['metadata'],\n",
    "            } for q, a in matches if len(a.strip()) < 100]\n",
    "\n",
    "    except:\n",
    "        continue\n",
    "\n",
    "\n",
    "df_qa_test = pd.DataFrame(outputs)\n",
    "print(df_qa_test.shape)\n",
    "\n",
    "df_qa_test.head()"
   ]
  },
  {
   "cell_type": "code",
   "execution_count": 89,
   "metadata": {},
   "outputs": [],
   "source": [
    "df_qa_test.to_excel(\"qa_test.xlsx\", index=False)"
   ]
  },
  {
   "cell_type": "markdown",
   "metadata": {},
   "source": [
    "`(3) 테스트 데이터 검토 및 수정`"
   ]
  },
  {
   "cell_type": "code",
   "execution_count": 90,
   "metadata": {},
   "outputs": [
    {
     "name": "stdout",
     "output_type": "stream",
     "text": [
      "(22, 4)\n"
     ]
    },
    {
     "data": {
      "text/html": [
       "<div>\n",
       "<style scoped>\n",
       "    .dataframe tbody tr th:only-of-type {\n",
       "        vertical-align: middle;\n",
       "    }\n",
       "\n",
       "    .dataframe tbody tr th {\n",
       "        vertical-align: top;\n",
       "    }\n",
       "\n",
       "    .dataframe thead th {\n",
       "        text-align: right;\n",
       "    }\n",
       "</style>\n",
       "<table border=\"1\" class=\"dataframe\">\n",
       "  <thead>\n",
       "    <tr style=\"text-align: right;\">\n",
       "      <th></th>\n",
       "      <th>context</th>\n",
       "      <th>question</th>\n",
       "      <th>answer</th>\n",
       "      <th>metadata</th>\n",
       "    </tr>\n",
       "  </thead>\n",
       "  <tbody>\n",
       "    <tr>\n",
       "      <th>0</th>\n",
       "      <td>['리비안은 MIT 박사 출신 RJ 스카린지가 2009년에 설립한 혁신적인 미국 전...</td>\n",
       "      <td>리 비 안의 설립 연도는 언제인가요?</td>\n",
       "      <td>리 비 안은 2009년에 설립되었습니다.</td>\n",
       "      <td>[{'source': 'Rivian.txt', 'doc_id': 0}]</td>\n",
       "    </tr>\n",
       "    <tr>\n",
       "      <th>1</th>\n",
       "      <td>['리비안은 MIT 박사 출신 RJ 스카린지가 2009년에 설립한 혁신적인 미국 전...</td>\n",
       "      <td>리 비 안의 창립자는 누구인가요?</td>\n",
       "      <td>리 비 안의 창립자는 R J 스카린지입니다.</td>\n",
       "      <td>[{'source': 'Rivian.txt', 'doc_id': 0}]</td>\n",
       "    </tr>\n",
       "    <tr>\n",
       "      <th>2</th>\n",
       "      <td>['2011년부터 자율 전기차에 집중한 리비안은 2015년 대규모 투자를 통해 크게...</td>\n",
       "      <td>자율 전기차에 집중한 리비안은 언제부터 시작했나요?</td>\n",
       "      <td>리비안은 2011년부터 자율 전기차에 집중하기 시작했습니다.</td>\n",
       "      <td>[{'source': 'Rivian.txt', 'doc_id': 1}]</td>\n",
       "    </tr>\n",
       "    <tr>\n",
       "      <th>3</th>\n",
       "      <td>['2011년부터 자율 전기차에 집중한 리비안은 2015년 대규모 투자를 통해 크게...</td>\n",
       "      <td>리비안은 어떤 방식으로 성장했나요?</td>\n",
       "      <td>리비안은 2015년 대규모 투자를 통해 크게 성장했습니다.</td>\n",
       "      <td>[{'source': 'Rivian.txt', 'doc_id': 1}]</td>\n",
       "    </tr>\n",
       "    <tr>\n",
       "      <th>4</th>\n",
       "      <td>['미시간과 베이 지역에 연구소를 설립했습니다. 주요 공급업체와의 접근성을 높이기 ...</td>\n",
       "      <td>미시간 주에 설립된 연구소의 목적은 무엇인가요?</td>\n",
       "      <td>주요 공급 업체와의 접근성을 높이기 위해 설립되었습니다.</td>\n",
       "      <td>[{'source': 'Rivian.txt', 'doc_id': 2}]</td>\n",
       "    </tr>\n",
       "  </tbody>\n",
       "</table>\n",
       "</div>"
      ],
      "text/plain": [
       "                                             context  \\\n",
       "0  ['리비안은 MIT 박사 출신 RJ 스카린지가 2009년에 설립한 혁신적인 미국 전...   \n",
       "1  ['리비안은 MIT 박사 출신 RJ 스카린지가 2009년에 설립한 혁신적인 미국 전...   \n",
       "2  ['2011년부터 자율 전기차에 집중한 리비안은 2015년 대규모 투자를 통해 크게...   \n",
       "3  ['2011년부터 자율 전기차에 집중한 리비안은 2015년 대규모 투자를 통해 크게...   \n",
       "4  ['미시간과 베이 지역에 연구소를 설립했습니다. 주요 공급업체와의 접근성을 높이기 ...   \n",
       "\n",
       "                       question                             answer  \\\n",
       "0          리 비 안의 설립 연도는 언제인가요?             리 비 안은 2009년에 설립되었습니다.   \n",
       "1            리 비 안의 창립자는 누구인가요?           리 비 안의 창립자는 R J 스카린지입니다.   \n",
       "2  자율 전기차에 집중한 리비안은 언제부터 시작했나요?  리비안은 2011년부터 자율 전기차에 집중하기 시작했습니다.   \n",
       "3           리비안은 어떤 방식으로 성장했나요?   리비안은 2015년 대규모 투자를 통해 크게 성장했습니다.   \n",
       "4    미시간 주에 설립된 연구소의 목적은 무엇인가요?    주요 공급 업체와의 접근성을 높이기 위해 설립되었습니다.   \n",
       "\n",
       "                                  metadata  \n",
       "0  [{'source': 'Rivian.txt', 'doc_id': 0}]  \n",
       "1  [{'source': 'Rivian.txt', 'doc_id': 0}]  \n",
       "2  [{'source': 'Rivian.txt', 'doc_id': 1}]  \n",
       "3  [{'source': 'Rivian.txt', 'doc_id': 1}]  \n",
       "4  [{'source': 'Rivian.txt', 'doc_id': 2}]  "
      ]
     },
     "execution_count": 90,
     "metadata": {},
     "output_type": "execute_result"
    }
   ],
   "source": [
    "# Test 데이터셋에 대한 QA 생성 결과를 리뷰한 후 다시 로드\n",
    "import pandas as pd\n",
    "\n",
    "df_qa_test = pd.read_excel(\"qa_test.xlsx\")\n",
    "print(df_qa_test.shape)\n",
    "\n",
    "df_qa_test.head()"
   ]
  },
  {
   "cell_type": "markdown",
   "metadata": {},
   "source": [
    "## 2. Information Retrieval 평가지표\n",
    "- K-RAG 패키지 사용 (pip isntall krag)\n",
    "- Hit Rate, MRR, Recall@k, Precision@k, mAP@k, NDCG@k 계산"
   ]
  },
  {
   "cell_type": "code",
   "execution_count": 95,
   "metadata": {},
   "outputs": [],
   "source": [
    "# 코사인 유사도 적용하여 인덱싱\n",
    "\n",
    "from langchain_community.vectorstores import Chroma\n",
    "from langchain_openai import OpenAIEmbeddings\n",
    "\n",
    "embeddings_model= OpenAIEmbeddings(model=\"text-embedding-3-small\")\n",
    "\n",
    "vectorstore = Chroma.from_documents(\n",
    "    documents=docs, \n",
    "    embedding=embeddings_model,\n",
    "    collection_name=\"qa_test\",\n",
    "    )\n",
    "\n",
    "retriever = vectorstore.as_retriever(\n",
    "    search_kwargs={\"k\":5}\n",
    ")"
   ]
  },
  {
   "cell_type": "code",
   "execution_count": 96,
   "metadata": {},
   "outputs": [
    {
     "name": "stdout",
     "output_type": "stream",
     "text": [
      "question: 리 비 안의 설립 연도는 언제인가요?\n"
     ]
    }
   ],
   "source": [
    "# 테스트 데이터의 첫 번째 질문\n",
    "question = df_qa_test['question'].iloc[0]\n",
    "print(\"question:\", question)"
   ]
  },
  {
   "cell_type": "code",
   "execution_count": 107,
   "metadata": {},
   "outputs": [
    {
     "data": {
      "text/plain": [
       "[KragDocument(metadata={'source': 'Rivian.txt', 'doc_id': 0}, page_content='리비안은 MIT 박사 출신 RJ 스카린지가 2009년에 설립한 혁신적인 미국 전기차 제조업체입니다. 2011년부터')]"
      ]
     },
     "execution_count": 107,
     "metadata": {},
     "output_type": "execute_result"
    }
   ],
   "source": [
    "# 테스트 데이터셋의 객체를 문서로 변환\n",
    "\n",
    "def convert_to_document(df_test, idx):\n",
    "    context_docs = []\n",
    "\n",
    "    context = eval(df_test['context'].iloc[idx])\n",
    "    metadata = []\n",
    "\n",
    "    for m in eval(df_test['metadata'].iloc[idx]):\n",
    "        if isinstance(m, str):\n",
    "            metadata.append(eval(m))\n",
    "        else:\n",
    "            metadata.append(m)\n",
    "\n",
    "    for c, m in zip(context, metadata):\n",
    "        doc = KragDocument(page_content=c, metadata=m)\n",
    "        context_docs.append(doc)\n",
    "\n",
    "    return context_docs\n",
    "\n",
    "# 문서 객체로 변환\n",
    "context_docs = convert_to_document(df_qa_test, 0)\n",
    "context_docs"
   ]
  },
  {
   "cell_type": "code",
   "execution_count": 108,
   "metadata": {},
   "outputs": [
    {
     "name": "stdout",
     "output_type": "stream",
     "text": [
      "0\n",
      "리비안은 MIT 박사 출신 RJ 스카린지가 2009년에 설립한 혁신적인 미국 전기차 제조업체입니다. 2011년부터\n",
      "------------------------------\n",
      "10\n",
      "리비안은 2021년 10월 첫 번째 양산 차량인 R1T 트럭을 고객에게 인도하기 시작했습니다.\n",
      "------------------------------\n",
      "3\n",
      "본사를 미시간주 리보니아로 이전했습니다.\n",
      "------------------------------\n",
      "4\n",
      "리비안의 초기 모델은 스포츠카 R1(원래 이름은 Avera)로, 2+2 좌석의 미드 엔진 하이브리드\n",
      "------------------------------\n",
      "7\n",
      "초 사이에 생산이 예상되었습니다. 리비안은 디젤 하이브리드 버전, 브라질 원메이크 시리즈를 위한 R1 GT 레이싱\n",
      "------------------------------\n"
     ]
    }
   ],
   "source": [
    "# BM25 검색기를 사용하여 문서 검색\n",
    "\n",
    "retrieved_docs = retriever.invoke(question)\n",
    "\n",
    "# 검색 결과 출력 \n",
    "for doc in retrieved_docs:\n",
    "    print(doc.metadata.get('doc_id'))\n",
    "    print(doc.page_content)\n",
    "    print(\"------------------------------\")"
   ]
  },
  {
   "cell_type": "markdown",
   "metadata": {},
   "source": [
    "`(1) Hit Rate`\n",
    "- 전체 예측 문서 중 실제 관련 문서가 포함된 비율을 측정 (순서와 무관)\n",
    "- 예측 문서에 포함되면 1이고 그렇지 않으면 0"
   ]
  },
  {
   "cell_type": "code",
   "execution_count": 109,
   "metadata": {},
   "outputs": [
    {
     "name": "stdout",
     "output_type": "stream",
     "text": [
      "Hit Rate: 1.00\n"
     ]
    }
   ],
   "source": [
    "# 평가도구 초기화 \n",
    "evaluator = OfflineRetrievalEvaluators(\n",
    "    actual_docs=[context_docs], \n",
    "    predicted_docs=[retrieved_docs], \n",
    "    )\n",
    "\n",
    "# 평가지표 계산 \n",
    "hit_rate = evaluator.calculate_hit_rate()\n",
    "\n",
    "# 결과 출력\n",
    "print(f\"Hit Rate: {hit_rate:.2f}\")"
   ]
  },
  {
   "cell_type": "code",
   "execution_count": 110,
   "metadata": {},
   "outputs": [
    {
     "name": "stdout",
     "output_type": "stream",
     "text": [
      "HitRate@1: 1.00\n",
      "HitRate@2: 1.00\n",
      "HitRate@3: 1.00\n",
      "HitRate@4: 1.00\n",
      "HitRate@5: 1.00\n"
     ]
    },
    {
     "data": {
      "text/html": [
       "<div>\n",
       "<style scoped>\n",
       "    .dataframe tbody tr th:only-of-type {\n",
       "        vertical-align: middle;\n",
       "    }\n",
       "\n",
       "    .dataframe tbody tr th {\n",
       "        vertical-align: top;\n",
       "    }\n",
       "\n",
       "    .dataframe thead th {\n",
       "        text-align: right;\n",
       "    }\n",
       "</style>\n",
       "<table border=\"1\" class=\"dataframe\">\n",
       "  <thead>\n",
       "    <tr style=\"text-align: right;\">\n",
       "      <th></th>\n",
       "      <th>HitRate@1</th>\n",
       "      <th>HitRate@2</th>\n",
       "      <th>HitRate@3</th>\n",
       "      <th>HitRate@4</th>\n",
       "      <th>HitRate@5</th>\n",
       "    </tr>\n",
       "  </thead>\n",
       "  <tbody>\n",
       "    <tr>\n",
       "      <th>0</th>\n",
       "      <td>1.0</td>\n",
       "      <td>1.0</td>\n",
       "      <td>1.0</td>\n",
       "      <td>1.0</td>\n",
       "      <td>1.0</td>\n",
       "    </tr>\n",
       "  </tbody>\n",
       "</table>\n",
       "</div>"
      ],
      "text/plain": [
       "   HitRate@1  HitRate@2  HitRate@3  HitRate@4  HitRate@5\n",
       "0        1.0        1.0        1.0        1.0        1.0"
      ]
     },
     "execution_count": 110,
     "metadata": {},
     "output_type": "execute_result"
    }
   ],
   "source": [
    "# k 값에 따른 평가지표 계산하는 함수를 정의 \n",
    "hitrate_ouputs = {}\n",
    "for k in range(1, 6):\n",
    "    hit_rate = evaluator.calculate_hit_rate(k=k)\n",
    "    print(f\"HitRate@{k}: {hit_rate:.2f}\")\n",
    "\n",
    "    hitrate_ouputs[f\"HitRate@{k}\"] = hit_rate\n",
    "\n",
    "df_hitrate = pd.DataFrame([hitrate_ouputs])\n",
    "df_hitrate"
   ]
  },
  {
   "cell_type": "code",
   "execution_count": 111,
   "metadata": {},
   "outputs": [
    {
     "data": {
      "image/png": "[encoded data removed]",
      "text/plain": [
       "<Figure size 800x400 with 1 Axes>"
      ]
     },
     "metadata": {},
     "output_type": "display_data"
    }
   ],
   "source": [
    "# 시각화\n",
    "import matplotlib.pyplot as plt\n",
    "import seaborn as sns\n",
    "\n",
    "plt.figure(figsize=(8, 4))\n",
    "sns.barplot(data=df_hitrate)\n",
    "plt.show()"
   ]
  },
  {
   "cell_type": "code",
   "execution_count": 112,
   "metadata": {},
   "outputs": [
    {
     "name": "stdout",
     "output_type": "stream",
     "text": [
      "Hit Rate: 1.00\n"
     ]
    }
   ],
   "source": [
    "# 전체 테스트 데이터에 적용\n",
    "context_docs = [convert_to_document(df_qa_test, i) for i in range(len(df_qa_test))]\n",
    "predicted_docs = [retriever.invoke(q) for q in df_qa_test['question']]\n",
    "\n",
    "# 평가도구 초기화\n",
    "evaluator = OfflineRetrievalEvaluators(\n",
    "    actual_docs=context_docs,\n",
    "    predicted_docs=predicted_docs,\n",
    ")\n",
    "\n",
    "# 평가지표 계산\n",
    "hit_rate = evaluator.calculate_hit_rate()\n",
    "\n",
    "# 결과 출력\n",
    "print(f\"Hit Rate: {hit_rate:.2f}\")"
   ]
  },
  {
   "cell_type": "code",
   "execution_count": 113,
   "metadata": {},
   "outputs": [
    {
     "name": "stdout",
     "output_type": "stream",
     "text": [
      "HitRate@1: 0.86\n",
      "HitRate@2: 0.95\n",
      "HitRate@3: 0.95\n",
      "HitRate@4: 1.00\n",
      "HitRate@5: 1.00\n"
     ]
    },
    {
     "data": {
      "text/html": [
       "<div>\n",
       "<style scoped>\n",
       "    .dataframe tbody tr th:only-of-type {\n",
       "        vertical-align: middle;\n",
       "    }\n",
       "\n",
       "    .dataframe tbody tr th {\n",
       "        vertical-align: top;\n",
       "    }\n",
       "\n",
       "    .dataframe thead th {\n",
       "        text-align: right;\n",
       "    }\n",
       "</style>\n",
       "<table border=\"1\" class=\"dataframe\">\n",
       "  <thead>\n",
       "    <tr style=\"text-align: right;\">\n",
       "      <th></th>\n",
       "      <th>HitRate@1</th>\n",
       "      <th>HitRate@2</th>\n",
       "      <th>HitRate@3</th>\n",
       "      <th>HitRate@4</th>\n",
       "      <th>HitRate@5</th>\n",
       "    </tr>\n",
       "  </thead>\n",
       "  <tbody>\n",
       "    <tr>\n",
       "      <th>0</th>\n",
       "      <td>0.863636</td>\n",
       "      <td>0.954545</td>\n",
       "      <td>0.954545</td>\n",
       "      <td>1.0</td>\n",
       "      <td>1.0</td>\n",
       "    </tr>\n",
       "  </tbody>\n",
       "</table>\n",
       "</div>"
      ],
      "text/plain": [
       "   HitRate@1  HitRate@2  HitRate@3  HitRate@4  HitRate@5\n",
       "0   0.863636   0.954545   0.954545        1.0        1.0"
      ]
     },
     "execution_count": 113,
     "metadata": {},
     "output_type": "execute_result"
    }
   ],
   "source": [
    "# k 값에 따른 평가지표 계산하는 함수를 정의 \n",
    "hitrate_ouputs = {}\n",
    "for k in range(1, 6):\n",
    "    hit_rate = evaluator.calculate_hit_rate(k=k)\n",
    "    print(f\"HitRate@{k}: {hit_rate:.2f}\")\n",
    "\n",
    "    hitrate_ouputs[f\"HitRate@{k}\"] = hit_rate\n",
    "\n",
    "df_hitrate = pd.DataFrame([hitrate_ouputs])\n",
    "df_hitrate"
   ]
  },
  {
   "cell_type": "code",
   "execution_count": 114,
   "metadata": {},
   "outputs": [
    {
     "data": {
      "image/png": "[encoded data removed]",
      "text/plain": [
       "<Figure size 800x400 with 1 Axes>"
      ]
     },
     "metadata": {},
     "output_type": "display_data"
    }
   ],
   "source": [
    "# 시각화\n",
    "import matplotlib.pyplot as plt\n",
    "import seaborn as sns\n",
    "\n",
    "plt.figure(figsize=(8, 4))\n",
    "sns.barplot(data=df_hitrate)\n",
    "plt.show()"
   ]
  },
  {
   "cell_type": "markdown",
   "metadata": {},
   "source": [
    "`(2) MRR (Mean Reciprocal Rank)`\n",
    "- 관련 문서가 반환된 순위의 역수를 계산한 후 그 평균을 구하는 방법\n",
    "- MRR은 사용자가 원하는 결과를 얼마나 빨리 찾을 수 있는지를 평가 (순서를 고려)"
   ]
  },
  {
   "cell_type": "code",
   "execution_count": 115,
   "metadata": {},
   "outputs": [
    {
     "name": "stdout",
     "output_type": "stream",
     "text": [
      "MRR@1: 0.86\n",
      "MRR@2: 0.91\n",
      "MRR@3: 0.91\n",
      "MRR@4: 0.92\n",
      "MRR@5: 0.92\n"
     ]
    },
    {
     "data": {
      "text/html": [
       "<div>\n",
       "<style scoped>\n",
       "    .dataframe tbody tr th:only-of-type {\n",
       "        vertical-align: middle;\n",
       "    }\n",
       "\n",
       "    .dataframe tbody tr th {\n",
       "        vertical-align: top;\n",
       "    }\n",
       "\n",
       "    .dataframe thead th {\n",
       "        text-align: right;\n",
       "    }\n",
       "</style>\n",
       "<table border=\"1\" class=\"dataframe\">\n",
       "  <thead>\n",
       "    <tr style=\"text-align: right;\">\n",
       "      <th></th>\n",
       "      <th>MRR@1</th>\n",
       "      <th>MRR@2</th>\n",
       "      <th>MRR@3</th>\n",
       "      <th>MRR@4</th>\n",
       "      <th>MRR@5</th>\n",
       "    </tr>\n",
       "  </thead>\n",
       "  <tbody>\n",
       "    <tr>\n",
       "      <th>0</th>\n",
       "      <td>0.863636</td>\n",
       "      <td>0.909091</td>\n",
       "      <td>0.909091</td>\n",
       "      <td>0.920455</td>\n",
       "      <td>0.920455</td>\n",
       "    </tr>\n",
       "  </tbody>\n",
       "</table>\n",
       "</div>"
      ],
      "text/plain": [
       "      MRR@1     MRR@2     MRR@3     MRR@4     MRR@5\n",
       "0  0.863636  0.909091  0.909091  0.920455  0.920455"
      ]
     },
     "execution_count": 115,
     "metadata": {},
     "output_type": "execute_result"
    }
   ],
   "source": [
    "# k 값에 따른 MRR 평가지표 계산\n",
    "\n",
    "mrr_ouputs = {}\n",
    "for k in range(1, 6):\n",
    "    mrr = evaluator.calculate_mrr(k=k)\n",
    "    print(f\"MRR@{k}: {mrr:.2f}\")\n",
    "\n",
    "    mrr_ouputs[f\"MRR@{k}\"] = mrr\n",
    "\n",
    "df_mrr = pd.DataFrame([mrr_ouputs])\n",
    "df_mrr"
   ]
  },
  {
   "cell_type": "code",
   "execution_count": 116,
   "metadata": {},
   "outputs": [
    {
     "data": {
      "image/png": "[encoded data removed]",
      "text/plain": [
       "<Figure size 800x400 with 1 Axes>"
      ]
     },
     "metadata": {},
     "output_type": "display_data"
    }
   ],
   "source": [
    "# 시각화\n",
    "plt.figure(figsize=(8, 4))\n",
    "sns.barplot(data=df_mrr)\n",
    "plt.show()"
   ]
  },
  {
   "cell_type": "markdown",
   "metadata": {},
   "source": [
    "`(3) Recall@k`\n",
    "\n",
    "- 주어진 실제 문서 리스트와 예측 문서 리스트를 비교하여 실제 문서가 예측 문서 리스트의 상위 k개에 포함되는 비율"
   ]
  },
  {
   "cell_type": "code",
   "execution_count": 117,
   "metadata": {},
   "outputs": [
    {
     "name": "stdout",
     "output_type": "stream",
     "text": [
      "Recall@1: 0.86\n",
      "Recall@2: 0.95\n",
      "Recall@3: 0.95\n",
      "Recall@4: 1.00\n",
      "Recall@5: 1.00\n"
     ]
    },
    {
     "data": {
      "text/html": [
       "<div>\n",
       "<style scoped>\n",
       "    .dataframe tbody tr th:only-of-type {\n",
       "        vertical-align: middle;\n",
       "    }\n",
       "\n",
       "    .dataframe tbody tr th {\n",
       "        vertical-align: top;\n",
       "    }\n",
       "\n",
       "    .dataframe thead th {\n",
       "        text-align: right;\n",
       "    }\n",
       "</style>\n",
       "<table border=\"1\" class=\"dataframe\">\n",
       "  <thead>\n",
       "    <tr style=\"text-align: right;\">\n",
       "      <th></th>\n",
       "      <th>Recall@1</th>\n",
       "      <th>Recall@2</th>\n",
       "      <th>Recall@3</th>\n",
       "      <th>Recall@4</th>\n",
       "      <th>Recall@5</th>\n",
       "    </tr>\n",
       "  </thead>\n",
       "  <tbody>\n",
       "    <tr>\n",
       "      <th>0</th>\n",
       "      <td>0.863636</td>\n",
       "      <td>0.954545</td>\n",
       "      <td>0.954545</td>\n",
       "      <td>1.0</td>\n",
       "      <td>1.0</td>\n",
       "    </tr>\n",
       "  </tbody>\n",
       "</table>\n",
       "</div>"
      ],
      "text/plain": [
       "   Recall@1  Recall@2  Recall@3  Recall@4  Recall@5\n",
       "0  0.863636  0.954545  0.954545       1.0       1.0"
      ]
     },
     "execution_count": 117,
     "metadata": {},
     "output_type": "execute_result"
    }
   ],
   "source": [
    "# k 값에 따른 Recall 평가지표 계산\n",
    "\n",
    "recall_ouputs = {}\n",
    "for k in range(1, 6):\n",
    "    recall = evaluator.calculate_recall(k=k)\n",
    "    print(f\"Recall@{k}: {recall:.2f}\")\n",
    "\n",
    "    recall_ouputs[f\"Recall@{k}\"] = recall\n",
    "\n",
    "\n",
    "df_recall = pd.DataFrame([recall_ouputs])\n",
    "df_recall"
   ]
  },
  {
   "cell_type": "code",
   "execution_count": 119,
   "metadata": {},
   "outputs": [
    {
     "data": {
      "image/png": "[encoded data removed]",
      "text/plain": [
       "<Figure size 800x400 with 1 Axes>"
      ]
     },
     "metadata": {},
     "output_type": "display_data"
    }
   ],
   "source": [
    "# 시각화\n",
    "plt.figure(figsize=(8, 4))\n",
    "sns.barplot(data=df_recall)\n",
    "plt.show()"
   ]
  },
  {
   "cell_type": "markdown",
   "metadata": {},
   "source": [
    "`(4) mAP@k (Mean Average Precision at k)`\n",
    "- mAP@k는 검색 결과의 평균 정밀도를 측정하는 지표\n",
    "- 각 문서의 평균 정밀도를 계산하고, 이들의 평균을 계산 (특히 k개의 상위 예측 문서 내에서 측정)"
   ]
  },
  {
   "cell_type": "code",
   "execution_count": 120,
   "metadata": {},
   "outputs": [
    {
     "name": "stdout",
     "output_type": "stream",
     "text": [
      "MAP@1: 0.86\n",
      "MAP@2: 0.91\n",
      "MAP@3: 0.91\n",
      "MAP@4: 0.92\n",
      "MAP@5: 0.92\n"
     ]
    },
    {
     "data": {
      "text/html": [
       "<div>\n",
       "<style scoped>\n",
       "    .dataframe tbody tr th:only-of-type {\n",
       "        vertical-align: middle;\n",
       "    }\n",
       "\n",
       "    .dataframe tbody tr th {\n",
       "        vertical-align: top;\n",
       "    }\n",
       "\n",
       "    .dataframe thead th {\n",
       "        text-align: right;\n",
       "    }\n",
       "</style>\n",
       "<table border=\"1\" class=\"dataframe\">\n",
       "  <thead>\n",
       "    <tr style=\"text-align: right;\">\n",
       "      <th></th>\n",
       "      <th>MAP@1</th>\n",
       "      <th>MAP@2</th>\n",
       "      <th>MAP@3</th>\n",
       "      <th>MAP@4</th>\n",
       "      <th>MAP@5</th>\n",
       "    </tr>\n",
       "  </thead>\n",
       "  <tbody>\n",
       "    <tr>\n",
       "      <th>0</th>\n",
       "      <td>0.863636</td>\n",
       "      <td>0.909091</td>\n",
       "      <td>0.909091</td>\n",
       "      <td>0.920455</td>\n",
       "      <td>0.920455</td>\n",
       "    </tr>\n",
       "  </tbody>\n",
       "</table>\n",
       "</div>"
      ],
      "text/plain": [
       "      MAP@1     MAP@2     MAP@3     MAP@4     MAP@5\n",
       "0  0.863636  0.909091  0.909091  0.920455  0.920455"
      ]
     },
     "execution_count": 120,
     "metadata": {},
     "output_type": "execute_result"
    }
   ],
   "source": [
    "# k 값에 따른 MAP@k 평가지표 계산\n",
    "\n",
    "map_ouputs = {}\n",
    "for k in range(1, 6):\n",
    "    map = evaluator.calculate_map(k=k)\n",
    "    print(f\"MAP@{k}: {map:.2f}\")\n",
    "\n",
    "    map_ouputs[f\"MAP@{k}\"] = map\n",
    "\n",
    "df_map = pd.DataFrame([map_ouputs])\n",
    "df_map"
   ]
  },
  {
   "cell_type": "code",
   "execution_count": 121,
   "metadata": {},
   "outputs": [
    {
     "data": {
      "image/png": "[encoded data removed]",
      "text/plain": [
       "<Figure size 800x400 with 1 Axes>"
      ]
     },
     "metadata": {},
     "output_type": "display_data"
    }
   ],
   "source": [
    "# 시각화\n",
    "plt.figure(figsize=(8, 4))\n",
    "sns.barplot(data=df_map)\n",
    "plt.show()"
   ]
  },
  {
   "cell_type": "markdown",
   "metadata": {},
   "source": [
    "`(5) NDCG (Normalized Discounted Cumulative Gain)`\n",
    "- NDCG는 추천 시스템에서 결과의 순서가 얼마나 잘 맞는지를 평가하는 지표\n",
    "- 각 문서의 순위에 따라 가중치를 부여하여 순위가 높은 관련 문서가 더 큰 영향을 주는 것으로 측정"
   ]
  },
  {
   "cell_type": "code",
   "execution_count": 122,
   "metadata": {},
   "outputs": [
    {
     "name": "stdout",
     "output_type": "stream",
     "text": [
      "NDCG@1: 0.86\n",
      "NDCG@2: 0.92\n",
      "NDCG@3: 0.92\n",
      "NDCG@4: 0.94\n",
      "NDCG@5: 0.94\n"
     ]
    },
    {
     "data": {
      "text/html": [
       "<div>\n",
       "<style scoped>\n",
       "    .dataframe tbody tr th:only-of-type {\n",
       "        vertical-align: middle;\n",
       "    }\n",
       "\n",
       "    .dataframe tbody tr th {\n",
       "        vertical-align: top;\n",
       "    }\n",
       "\n",
       "    .dataframe thead th {\n",
       "        text-align: right;\n",
       "    }\n",
       "</style>\n",
       "<table border=\"1\" class=\"dataframe\">\n",
       "  <thead>\n",
       "    <tr style=\"text-align: right;\">\n",
       "      <th></th>\n",
       "      <th>NDCG@1</th>\n",
       "      <th>NDCG@2</th>\n",
       "      <th>NDCG@3</th>\n",
       "      <th>NDCG@4</th>\n",
       "      <th>NDCG@5</th>\n",
       "    </tr>\n",
       "  </thead>\n",
       "  <tbody>\n",
       "    <tr>\n",
       "      <th>0</th>\n",
       "      <td>0.863636</td>\n",
       "      <td>0.920994</td>\n",
       "      <td>0.920994</td>\n",
       "      <td>0.94057</td>\n",
       "      <td>0.94057</td>\n",
       "    </tr>\n",
       "  </tbody>\n",
       "</table>\n",
       "</div>"
      ],
      "text/plain": [
       "     NDCG@1    NDCG@2    NDCG@3   NDCG@4   NDCG@5\n",
       "0  0.863636  0.920994  0.920994  0.94057  0.94057"
      ]
     },
     "execution_count": 122,
     "metadata": {},
     "output_type": "execute_result"
    }
   ],
   "source": [
    "# k 값에 따른 NDCG@k 평가지표 계산\n",
    "\n",
    "ndcg_ouputs = {}\n",
    "\n",
    "for k in range(1, 6):\n",
    "    ndcg = evaluator.calculate_ndcg(k=k)\n",
    "    print(f\"NDCG@{k}: {ndcg:.2f}\")\n",
    "\n",
    "    ndcg_ouputs[f\"NDCG@{k}\"] = ndcg\n",
    "\n",
    "df_ndcg = pd.DataFrame([ndcg_ouputs])\n",
    "df_ndcg"
   ]
  },
  {
   "cell_type": "code",
   "execution_count": 123,
   "metadata": {},
   "outputs": [
    {
     "data": {
      "image/png": "[encoded data removed]",
      "text/plain": [
       "<Figure size 800x400 with 1 Axes>"
      ]
     },
     "metadata": {},
     "output_type": "display_data"
    }
   ],
   "source": [
    "# 시각화\n",
    "plt.figure(figsize=(8, 4))\n",
    "sns.barplot(data=df_ndcg)\n",
    "plt.show()"
   ]
  },
  {
   "cell_type": "code",
   "execution_count": null,
   "metadata": {},
   "outputs": [],
   "source": []
  }
 ],
 "metadata": {
  "kernelspec": {
   "display_name": "krag-eval-lXEpWqAQ-py3.12",
   "language": "python",
   "name": "python3"
  },
  "language_info": {
   "codemirror_mode": {
    "name": "ipython",
    "version": 3
   },
   "file_extension": ".py",
   "mimetype": "text/x-python",
   "name": "python",
   "nbconvert_exporter": "python",
   "pygments_lexer": "ipython3",
   "version": "3.12.1"
  }
 },
 "nbformat": 4,
 "nbformat_minor": 2
}
