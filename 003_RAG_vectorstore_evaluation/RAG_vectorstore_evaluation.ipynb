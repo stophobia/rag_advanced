{
 "cells": [
  {
   "cell_type": "code",
   "execution_count": 1,
   "metadata": {},
   "outputs": [
    {
     "data": {
      "text/plain": [
       "True"
      ]
     },
     "execution_count": 1,
     "metadata": {},
     "output_type": "execute_result"
    }
   ],
   "source": [
    "from dotenv import load_dotenv\n",
    "load_dotenv()"
   ]
  },
  {
   "cell_type": "markdown",
   "metadata": {},
   "source": [
    "# 필요한 라이브러리"
   ]
  },
  {
   "cell_type": "code",
   "execution_count": 2,
   "metadata": {},
   "outputs": [],
   "source": [
    "import time\n",
    "import psutil\n",
    "import os\n",
    "import re\n",
    "import shutil\n",
    "import pandas as pd\n",
    "import numpy as np\n",
    "from typing import List, Dict, Any\n",
    "from langchain.schema import Document\n",
    "from langchain.document_loaders import TextLoader\n",
    "from langchain.vectorstores import Chroma, FAISS\n",
    "from langchain.embeddings import HuggingFaceEmbeddings\n",
    "from krag.document import KragDocument\n",
    "from krag.evaluators import OfflineRetrievalEvaluators, RougeOfflineRetrievalEvaluators\n",
    "\n",
    "import chromadb\n",
    "from chromadb.config import Settings\n",
    "import weaviate\n",
    "import weaviate.classes as wvc"
   ]
  },
  {
   "cell_type": "markdown",
   "metadata": {},
   "source": [
    "## 평가를 위한 유틸리티 함수"
   ]
  },
  {
   "cell_type": "code",
   "execution_count": 3,
   "metadata": {},
   "outputs": [],
   "source": [
    "def get_process_memory():\n",
    "    \"\"\"현재 프로세스의 메모리 사용량을 반환합니다.\"\"\"\n",
    "    process = psutil.Process(os.getpid())\n",
    "    return process.memory_info().rss\n",
    "\n",
    "def track_memory_usage(func):\n",
    "    \"\"\"함수 실행 전후의 메모리 사용량 변화를 추적하는 데코레이터입니다.\"\"\"\n",
    "    def wrapper(*args, **kwargs):\n",
    "        memory_before = get_process_memory()\n",
    "        result = func(*args, **kwargs)\n",
    "        memory_after = get_process_memory()\n",
    "        print(f\"메모리 사용량: {(memory_after - memory_before) / 1024 / 1024:.2f} MB\")\n",
    "        return result\n",
    "    return wrapper"
   ]
  },
  {
   "cell_type": "markdown",
   "metadata": {},
   "source": [
    "# 데이터 준비 함수"
   ]
  },
  {
   "cell_type": "code",
   "execution_count": 4,
   "metadata": {},
   "outputs": [],
   "source": [
    "def split_menu_items(document):\n",
    "    # 메뉴 항목을 분리하기 위한 정규 표현식\n",
    "    pattern = r'(\\d+\\.\\s.*?)(?=\\n\\n\\d+\\.|$)'\n",
    "    \n",
    "    # 전체 텍스트에서 메뉴 항목 분리\n",
    "    menu_items = re.findall(pattern, document.page_content, re.DOTALL)\n",
    "    \n",
    "    # 각 메뉴 항목을 Document 객체로 변환\n",
    "    menu_documents = []\n",
    "    for i, item in enumerate(menu_items, 1):\n",
    "        # 메뉴 이름 추출\n",
    "        menu_name = item.split('\\n')[0].split('.', 1)[1].strip()\n",
    "        \n",
    "        # 새로운 Document 객체 생성\n",
    "        menu_doc = Document(\n",
    "            page_content=item.strip(),\n",
    "            metadata={\n",
    "                \"source\": document.metadata['source'],\n",
    "                \"menu_number\": i,\n",
    "                \"menu_name\": menu_name\n",
    "            }\n",
    "        )\n",
    "        menu_documents.append(menu_doc)\n",
    "    \n",
    "    return menu_documents"
   ]
  },
  {
   "cell_type": "code",
   "execution_count": 5,
   "metadata": {},
   "outputs": [],
   "source": [
    "@track_memory_usage\n",
    "def prepare_menu_data(file_path: str) -> List[Document]:\n",
    "    \"\"\"\n",
    "    데이터를 로드하고, Document 객체로 변환합니다.\n",
    "    \"\"\"\n",
    "    # 텍스트 데이터를 로드\n",
    "    loader = TextLoader(file_path)\n",
    "    documents = loader.load()\n",
    "\n",
    "    # 메뉴 항목 분리 실행\n",
    "    menu_documents = []\n",
    "    for doc in documents:\n",
    "        menu_documents += split_menu_items(doc)\n",
    "\n",
    "    return menu_documents"
   ]
  },
  {
   "cell_type": "markdown",
   "metadata": {},
   "source": [
    "# 벡터 저장소 초기화 함수"
   ]
  },
  {
   "cell_type": "code",
   "execution_count": 6,
   "metadata": {},
   "outputs": [],
   "source": [
    "from langchain_openai import OpenAIEmbeddings\n",
    "\n",
    "embeddings = OpenAIEmbeddings(model=\"text-embedding-3-small\")"
   ]
  },
  {
   "cell_type": "code",
   "execution_count": 7,
   "metadata": {},
   "outputs": [],
   "source": [
    "@track_memory_usage\n",
    "def init_vectorstores(documents: List[Document], embeddings):\n",
    "    \"\"\"Chroma, FAISS, Weaviate 벡터 저장소를 초기화합니다.\"\"\"\n",
    "\n",
    "\n",
    "    # Chroma 초기화\n",
    "    start_time = time.time()\n",
    "    chroma_client = chromadb.Client(Settings(allow_reset=True))\n",
    "\n",
    "    # 기존 Chroma DB 디렉토리 삭제\n",
    "    chroma_persist_dir = \"./chroma_db_test\"\n",
    "    if os.path.exists(chroma_persist_dir):\n",
    "        shutil.rmtree(chroma_persist_dir)\n",
    "\n",
    "\n",
    "    collection_name = \"db_test\" \n",
    "    \n",
    "    if collection_name in [d.name for d in chroma_client.list_collections()]:\n",
    "        chroma_client.delete_collection(collection_name)\n",
    "        \n",
    "    chroma_db = Chroma.from_documents(\n",
    "        documents, \n",
    "        embeddings,\n",
    "        client=chroma_client,\n",
    "        collection_name=collection_name,\n",
    "        persist_directory=chroma_persist_dir,\n",
    "    )\n",
    "\n",
    "    chroma_time = time.time() - start_time\n",
    "    print(f\"Chroma 인덱싱 시간: {chroma_time:.2f} 초\")\n",
    "\n",
    "\n",
    "    # FAISS 초기화\n",
    "    start_time = time.time()\n",
    "    faiss_db = FAISS.from_documents(documents, embeddings)\n",
    "    faiss_time = time.time() - start_time\n",
    "    print(f\"FAISS 인덱싱 시간: {faiss_time:.2f} 초\")\n",
    "\n",
    "    # Weaviate 초기화\n",
    "    client = weaviate.connect_to_local()\n",
    "    \n",
    "    # 기존 스키마 삭제\n",
    "    client.collections.delete_all()\n",
    "    \n",
    "    # 새로운 클래스 생성\n",
    "    collection = client.collections.create(\n",
    "        name=\"Document\",\n",
    "        vectorizer_config=wvc.config.Configure.Vectorizer.text2vec_transformers()\n",
    "    )\n",
    "\n",
    "    # 데이터 추가\n",
    "    start_time = time.time()\n",
    "    \n",
    "    data_objects = [{\"content\": doc.page_content} for doc in documents]\n",
    "    collection.data.insert_many(data_objects)\n",
    "\n",
    "    weaviate_time = time.time() - start_time\n",
    "    print(f\"Weaviate 인덱싱 시간: {weaviate_time:.2f} 초\")\n",
    "\n",
    "    # client.close()\n",
    "\n",
    "    return chroma_db, faiss_db, client  # client를 weaviate_db로 사용"
   ]
  },
  {
   "cell_type": "code",
   "execution_count": 49,
   "metadata": {},
   "outputs": [
    {
     "name": "stdout",
     "output_type": "stream",
     "text": [
      "메모리 사용량: 0.86 MB\n",
      "문서 수:  10\n",
      "Chroma 인덱싱 시간: 0.75 초\n",
      "FAISS 인덱싱 시간: 0.71 초\n",
      "Weaviate 인덱싱 시간: 1.56 초\n",
      "메모리 사용량: 31.22 MB\n"
     ]
    }
   ],
   "source": [
    "# 데이터 파일 경로\n",
    "file_path = \"./data/restaurant_menu.txt\"\n",
    "\n",
    "# 데이터 준비\n",
    "documents = prepare_menu_data(file_path)\n",
    "\n",
    "print(\"문서 수: \", len(documents))\n",
    "\n",
    "# 벡터 저장소 초기화\n",
    "chroma_db, faiss_db, weaviate_db = init_vectorstores(documents, embeddings)"
   ]
  },
  {
   "cell_type": "markdown",
   "metadata": {},
   "source": [
    "# 쿼리 실행 함수"
   ]
  },
  {
   "cell_type": "code",
   "execution_count": 9,
   "metadata": {},
   "outputs": [],
   "source": [
    "def run_query(db: Any, query: str) -> List[KragDocument]:\n",
    "    \"\"\"주어진 데이터베이스에서 쿼리를 실행하고 결과를 반환합니다.\"\"\"\n",
    "\n",
    "    if isinstance(db, (Chroma, FAISS)):\n",
    "        results = db.similarity_search(query)\n",
    "        return [KragDocument(metadata={'id': i}, page_content=doc.page_content) for i, doc in enumerate(results)]\n",
    "    \n",
    "    elif isinstance(db, weaviate.WeaviateClient):\n",
    "        collection = db.collections.get(\"Document\")\n",
    "        results = collection.query.near_text(\n",
    "            query=query,\n",
    "            limit=4,  # 원하는 결과 개수로 조정\n",
    "            return_properties=[\"content\"]\n",
    "        )\n",
    "        return [KragDocument(metadata={'id': i}, page_content=obj.properties['content']) for i, obj in enumerate(results.objects)]"
   ]
  },
  {
   "cell_type": "code",
   "execution_count": 10,
   "metadata": {},
   "outputs": [
    {
     "data": {
      "text/html": [
       "<div>\n",
       "<style scoped>\n",
       "    .dataframe tbody tr th:only-of-type {\n",
       "        vertical-align: middle;\n",
       "    }\n",
       "\n",
       "    .dataframe tbody tr th {\n",
       "        vertical-align: top;\n",
       "    }\n",
       "\n",
       "    .dataframe thead th {\n",
       "        text-align: right;\n",
       "    }\n",
       "</style>\n",
       "<table border=\"1\" class=\"dataframe\">\n",
       "  <thead>\n",
       "    <tr style=\"text-align: right;\">\n",
       "      <th></th>\n",
       "      <th>menu_name</th>\n",
       "      <th>question</th>\n",
       "      <th>answer</th>\n",
       "      <th>context_docs</th>\n",
       "    </tr>\n",
       "  </thead>\n",
       "  <tbody>\n",
       "    <tr>\n",
       "      <th>0</th>\n",
       "      <td>시그니처 스테이크</td>\n",
       "      <td>이 레스토랑의 대표 메뉴로 알려진 고기 요리의 가격은 얼마인가요?</td>\n",
       "      <td>시그니처 스테이크의 가격은 ₩35,000입니다.</td>\n",
       "      <td>[Document(metadata={'menu_name': ' 시그니처 스테이크 '...</td>\n",
       "    </tr>\n",
       "    <tr>\n",
       "      <th>1</th>\n",
       "      <td>트러플 리조또</td>\n",
       "      <td>이탈리아 쌀요리 중 가장 비싼 메뉴는 무엇인가요?</td>\n",
       "      <td>트러플 리조또로, 가격은 ₩22,000입니다.</td>\n",
       "      <td>[Document(metadata={'menu_name': ' 트러플 리조또 '},...</td>\n",
       "    </tr>\n",
       "  </tbody>\n",
       "</table>\n",
       "</div>"
      ],
      "text/plain": [
       "     menu_name                                question  \\\n",
       "0   시그니처 스테이크    이 레스토랑의 대표 메뉴로 알려진 고기 요리의 가격은 얼마인가요?    \n",
       "1     트러플 리조또             이탈리아 쌀요리 중 가장 비싼 메뉴는 무엇인가요?    \n",
       "\n",
       "                         answer  \\\n",
       "0   시그니처 스테이크의 가격은 ₩35,000입니다.    \n",
       "1    트러플 리조또로, 가격은 ₩22,000입니다.    \n",
       "\n",
       "                                        context_docs  \n",
       "0  [Document(metadata={'menu_name': ' 시그니처 스테이크 '...  \n",
       "1  [Document(metadata={'menu_name': ' 트러플 리조또 '},...  "
      ]
     },
     "execution_count": 10,
     "metadata": {},
     "output_type": "execute_result"
    }
   ],
   "source": [
    "# 테스트 데이터 로드\n",
    "df_test = pd.read_csv(\"./data/restaurant_menu_test_data_with_context.csv\")\n",
    "df_test.head(2)"
   ]
  },
  {
   "cell_type": "code",
   "execution_count": 11,
   "metadata": {},
   "outputs": [
    {
     "name": "stdout",
     "output_type": "stream",
     "text": [
      "Chroma 검색 결과:\n",
      "1. 시그니처 스테이크\n",
      "   • 가격: ₩35,000\n",
      "   • 주요 식재료: 최상급 한우 등심, 로즈메리 감자, 그릴드 아스파라거스\n",
      "   • 설명: 셰프의 특제 시그니처 메뉴로, 21일간 건조 숙성한 최상급 한우 등심을 사용합니다. 미디엄 레어로 조리하여 육즙을 최대한 보존하며, 로즈메리 향의 감자와 아삭한 그릴드 아스파라거스가 곁들여집니다. 레드와인 소스와 함께 제공되어 풍부한 맛을 더합니다.\n",
      "\n",
      "8. 안심 스테이크 샐러드\n",
      "   • 가격: ₩26,000\n",
      "   • 주요 식재료: 소고기 안심, 루꼴라, 체리 토마토, 발사믹 글레이즈\n",
      "   • 설명: 부드러운 안심 스테이크를 얇게 슬라이스하여 신선한 루꼴라 위에 올린 메인 요리 샐러드입니다. 체리 토마토와 파마산 치즈 플레이크로 풍미를 더하고, 발사믹 글레이즈로 마무리하여 고기의 풍미를 한층 끌어올렸습니다.\n",
      "\n",
      "2. 트러플 리조또\n",
      "   • 가격: ₩22,000\n",
      "   • 주요 식재료: 이탈리아산 아르보리오 쌀, 블랙 트러플, 파르미지아노 레지아노 치즈\n",
      "   • 설명: 크리미한 텍스처의 리조또에 고급 블랙 트러플을 듬뿍 얹어 풍부한 향과 맛을 즐길 수 있는 메뉴입니다. 24개월 숙성된 파르미지아노 레지아노 치즈를 사용하여 깊은 맛을 더했으며, 주문 즉시 조리하여 최상의 상태로 제공됩니다.\n",
      "\n",
      "3. 연어 타르타르\n",
      "   • 가격: ₩18,000\n",
      "   • 주요 식재료: 노르웨이산 생연어, 아보카도, 케이퍼, 적양파\n",
      "   • 설명: 신선한 노르웨이산 생연어를 곱게 다져 아보카도, 케이퍼, 적양파와 함께 섞어 만든 타르타르입니다. 레몬 드레싱으로 상큼한 맛을 더했으며, 바삭한 브리오쉬 토스트와 함께 제공됩니다. 전채요리로 완벽한 메뉴입니다.\n",
      "\n",
      "FAISS 검색 결과:\n",
      "1. 시그니처 스테이크\n",
      "   • 가격: ₩35,000\n",
      "   • 주요 식재료: 최상급 한우 등심, 로즈메리 감자, 그릴드 아스파라거스\n",
      "   • 설명: 셰프의 특제 시그니처 메뉴로, 21일간 건조 숙성한 최상급 한우 등심을 사용합니다. 미디엄 레어로 조리하여 육즙을 최대한 보존하며, 로즈메리 향의 감자와 아삭한 그릴드 아스파라거스가 곁들여집니다. 레드와인 소스와 함께 제공되어 풍부한 맛을 더합니다.\n",
      "\n",
      "8. 안심 스테이크 샐러드\n",
      "   • 가격: ₩26,000\n",
      "   • 주요 식재료: 소고기 안심, 루꼴라, 체리 토마토, 발사믹 글레이즈\n",
      "   • 설명: 부드러운 안심 스테이크를 얇게 슬라이스하여 신선한 루꼴라 위에 올린 메인 요리 샐러드입니다. 체리 토마토와 파마산 치즈 플레이크로 풍미를 더하고, 발사믹 글레이즈로 마무리하여 고기의 풍미를 한층 끌어올렸습니다.\n",
      "\n",
      "3. 연어 타르타르\n",
      "   • 가격: ₩18,000\n",
      "   • 주요 식재료: 노르웨이산 생연어, 아보카도, 케이퍼, 적양파\n",
      "   • 설명: 신선한 노르웨이산 생연어를 곱게 다져 아보카도, 케이퍼, 적양파와 함께 섞어 만든 타르타르입니다. 레몬 드레싱으로 상큼한 맛을 더했으며, 바삭한 브리오쉬 토스트와 함께 제공됩니다. 전채요리로 완벽한 메뉴입니다.\n",
      "\n",
      "2. 트러플 리조또\n",
      "   • 가격: ₩22,000\n",
      "   • 주요 식재료: 이탈리아산 아르보리오 쌀, 블랙 트러플, 파르미지아노 레지아노 치즈\n",
      "   • 설명: 크리미한 텍스처의 리조또에 고급 블랙 트러플을 듬뿍 얹어 풍부한 향과 맛을 즐길 수 있는 메뉴입니다. 24개월 숙성된 파르미지아노 레지아노 치즈를 사용하여 깊은 맛을 더했으며, 주문 즉시 조리하여 최상의 상태로 제공됩니다.\n",
      "\n",
      "Weaviate 검색 결과:\n",
      "10. 티라미수\n",
      "    • 가격: ₩9,000\n",
      "    • 주요 식재료: 마스카포네 치즈, 에스프레소, 카카오 파우더, 레이디핑거 비스킷\n",
      "    • 설명: 부드러운 마스카포네 치즈 크림과 에스프레소에 적신 레이디핑거 비스킷을 층층이 쌓아 만든 이탈리아 정통 디저트입니다. 고소한 카카오 파우더를 듬뿍 뿌려 풍미를 더했습니다. 커피의 쌉싸름함과 치즈의 부드러움이 조화롭게 어우러집니다.\n",
      "\n",
      "3. 연어 타르타르\n",
      "   • 가격: ₩18,000\n",
      "   • 주요 식재료: 노르웨이산 생연어, 아보카도, 케이퍼, 적양파\n",
      "   • 설명: 신선한 노르웨이산 생연어를 곱게 다져 아보카도, 케이퍼, 적양파와 함께 섞어 만든 타르타르입니다. 레몬 드레싱으로 상큼한 맛을 더했으며, 바삭한 브리오쉬 토스트와 함께 제공됩니다. 전채요리로 완벽한 메뉴입니다.\n",
      "\n",
      "1. 시그니처 스테이크\n",
      "   • 가격: ₩35,000\n",
      "   • 주요 식재료: 최상급 한우 등심, 로즈메리 감자, 그릴드 아스파라거스\n",
      "   • 설명: 셰프의 특제 시그니처 메뉴로, 21일간 건조 숙성한 최상급 한우 등심을 사용합니다. 미디엄 레어로 조리하여 육즙을 최대한 보존하며, 로즈메리 향의 감자와 아삭한 그릴드 아스파라거스가 곁들여집니다. 레드와인 소스와 함께 제공되어 풍부한 맛을 더합니다.\n",
      "\n",
      "5. 가든 샐러드\n",
      "   • 가격: ₩12,000\n",
      "   • 주요 식재료: 유기농 믹스 그린, 체리 토마토, 오이, 당근, 발사믹 드레싱\n",
      "   • 설명: 신선한 유기농 채소들로 구성된 건강한 샐러드입니다. 아삭한 식감의 믹스 그린에 달콤한 체리 토마토, 오이, 당근을 더해 다양한 맛과 식감을 즐길 수 있습니다. 특제 발사믹 드레싱이 채소 본연의 맛을 살려줍니다.\n",
      "\n"
     ]
    }
   ],
   "source": [
    "# 데이터 준비\n",
    "queries = df_test['question'].tolist()\n",
    "actual_docs = [eval(doc) for doc in df_test['context_docs']]\n",
    "\n",
    "# 0번째 쿼리 실행\n",
    "query = queries[0]\n",
    "\n",
    "# 쿼리 실행\n",
    "results_chroma = run_query(chroma_db, query)\n",
    "results_faiss = run_query(faiss_db, query)\n",
    "results_weaviate = run_query(weaviate_db, query)\n",
    "\n",
    "# 결과 비교\n",
    "print(\"Chroma 검색 결과:\")\n",
    "for doc in results_chroma:\n",
    "    print(doc.page_content)\n",
    "    print()\n",
    "\n",
    "print(\"FAISS 검색 결과:\")\n",
    "for doc in results_faiss:\n",
    "    print(doc.page_content)\n",
    "    print()\n",
    "\n",
    "print(\"Weaviate 검색 결과:\")\n",
    "for doc in results_weaviate:\n",
    "    print(doc.page_content)\n",
    "    print()"
   ]
  },
  {
   "cell_type": "markdown",
   "metadata": {},
   "source": [
    "# 벤치마크 실행 함수"
   ]
  },
  {
   "cell_type": "code",
   "execution_count": 53,
   "metadata": {},
   "outputs": [],
   "source": [
    "@track_memory_usage\n",
    "def run_benchmark(db: Any, queries: List[str], actual_docs: List[List[KragDocument]]):\n",
    "    \"\"\"\n",
    "    주어진 데이터베이스에 대해 벤치마크를 실행하고 결과를 데이터프레임으로 반환합니다.\n",
    "    \"\"\"\n",
    "    def bench():\n",
    "        run_query(db, np.random.choice(queries))\n",
    "\n",
    "    # 쿼리 실행 시간 측정\n",
    "    start_time = time.time()\n",
    "    for _ in range(10):  # 10번 반복하여 평균 시간 계산\n",
    "        bench()\n",
    "    end_time = time.time()\n",
    "    avg_time = (end_time - start_time) / 10\n",
    "\n",
    "    # 모든 쿼리에 대한 결과를 저장할 리스트\n",
    "    all_results = []\n",
    "\n",
    "    # 각 쿼리에 대해 평가 지표 계산\n",
    "    for i, (query, actual) in enumerate(zip(queries, actual_docs)):\n",
    "        predicted_docs = [run_query(db, query)]\n",
    "        evaluator = RougeOfflineRetrievalEvaluators([actual], predicted_docs, match_method=\"rouge1\", threshold=0.8)\n",
    "\n",
    "        k_values = [1, 2, 3, 4]\n",
    "        for k in k_values:\n",
    "            result = {\n",
    "                'Query': f'Query {i+1}',\n",
    "                'k': k,\n",
    "                'Hit Rate': evaluator.calculate_hit_rate(k=k),\n",
    "                'MRR': evaluator.calculate_mrr(k=k),\n",
    "            }\n",
    "            all_results.append(result)\n",
    "\n",
    "    # 결과를 데이터프레임으로 변환\n",
    "    df_results = pd.DataFrame(all_results)\n",
    "\n",
    "    # 평균 계산 및 추가 (Query 열 제외)\n",
    "    avg_results = df_results.groupby('k').mean(numeric_only=True).reset_index()\n",
    "    avg_results['Query'] = 'Average'\n",
    "    df_results = pd.concat([df_results, avg_results]).reset_index(drop=True)\n",
    "\n",
    "    # 성능 메트릭 추가\n",
    "    performance_metrics = pd.DataFrame({\n",
    "        'Metric': ['Average Query Time', 'Queries per Second'],\n",
    "        'Value': [avg_time, 1 / avg_time]\n",
    "    })\n",
    "\n",
    "    return df_results, performance_metrics"
   ]
  },
  {
   "cell_type": "code",
   "execution_count": 54,
   "metadata": {},
   "outputs": [
    {
     "name": "stdout",
     "output_type": "stream",
     "text": [
      "메모리 사용량: 38.72 MB\n"
     ]
    },
    {
     "data": {
      "text/html": [
       "<div>\n",
       "<style scoped>\n",
       "    .dataframe tbody tr th:only-of-type {\n",
       "        vertical-align: middle;\n",
       "    }\n",
       "\n",
       "    .dataframe tbody tr th {\n",
       "        vertical-align: top;\n",
       "    }\n",
       "\n",
       "    .dataframe thead th {\n",
       "        text-align: right;\n",
       "    }\n",
       "</style>\n",
       "<table border=\"1\" class=\"dataframe\">\n",
       "  <thead>\n",
       "    <tr style=\"text-align: right;\">\n",
       "      <th></th>\n",
       "      <th>Query</th>\n",
       "      <th>k</th>\n",
       "      <th>Hit Rate</th>\n",
       "      <th>MRR</th>\n",
       "    </tr>\n",
       "  </thead>\n",
       "  <tbody>\n",
       "    <tr>\n",
       "      <th>60</th>\n",
       "      <td>Average</td>\n",
       "      <td>1</td>\n",
       "      <td>0.333333</td>\n",
       "      <td>0.333333</td>\n",
       "    </tr>\n",
       "    <tr>\n",
       "      <th>61</th>\n",
       "      <td>Average</td>\n",
       "      <td>2</td>\n",
       "      <td>0.533333</td>\n",
       "      <td>0.433333</td>\n",
       "    </tr>\n",
       "    <tr>\n",
       "      <th>62</th>\n",
       "      <td>Average</td>\n",
       "      <td>3</td>\n",
       "      <td>0.666667</td>\n",
       "      <td>0.477778</td>\n",
       "    </tr>\n",
       "    <tr>\n",
       "      <th>63</th>\n",
       "      <td>Average</td>\n",
       "      <td>4</td>\n",
       "      <td>0.733333</td>\n",
       "      <td>0.494444</td>\n",
       "    </tr>\n",
       "  </tbody>\n",
       "</table>\n",
       "</div>"
      ],
      "text/plain": [
       "      Query  k  Hit Rate       MRR\n",
       "60  Average  1  0.333333  0.333333\n",
       "61  Average  2  0.533333  0.433333\n",
       "62  Average  3  0.666667  0.477778\n",
       "63  Average  4  0.733333  0.494444"
      ]
     },
     "execution_count": 54,
     "metadata": {},
     "output_type": "execute_result"
    }
   ],
   "source": [
    "queries = df_test['question'].tolist()\n",
    "actual_docs = [eval(doc) for doc in df_test['context_docs']]\n",
    "\n",
    "results_chroma, performance_chroma = run_benchmark(chroma_db, queries, actual_docs)\n",
    "\n",
    "results_chroma.tail(4)"
   ]
  },
  {
   "cell_type": "code",
   "execution_count": 55,
   "metadata": {},
   "outputs": [
    {
     "data": {
      "text/html": [
       "<div>\n",
       "<style scoped>\n",
       "    .dataframe tbody tr th:only-of-type {\n",
       "        vertical-align: middle;\n",
       "    }\n",
       "\n",
       "    .dataframe tbody tr th {\n",
       "        vertical-align: top;\n",
       "    }\n",
       "\n",
       "    .dataframe thead th {\n",
       "        text-align: right;\n",
       "    }\n",
       "</style>\n",
       "<table border=\"1\" class=\"dataframe\">\n",
       "  <thead>\n",
       "    <tr style=\"text-align: right;\">\n",
       "      <th></th>\n",
       "      <th>Metric</th>\n",
       "      <th>Value</th>\n",
       "    </tr>\n",
       "  </thead>\n",
       "  <tbody>\n",
       "    <tr>\n",
       "      <th>0</th>\n",
       "      <td>Average Query Time</td>\n",
       "      <td>0.301781</td>\n",
       "    </tr>\n",
       "    <tr>\n",
       "      <th>1</th>\n",
       "      <td>Queries per Second</td>\n",
       "      <td>3.313666</td>\n",
       "    </tr>\n",
       "  </tbody>\n",
       "</table>\n",
       "</div>"
      ],
      "text/plain": [
       "               Metric     Value\n",
       "0  Average Query Time  0.301781\n",
       "1  Queries per Second  3.313666"
      ]
     },
     "execution_count": 55,
     "metadata": {},
     "output_type": "execute_result"
    }
   ],
   "source": [
    "performance_chroma"
   ]
  },
  {
   "cell_type": "code",
   "execution_count": 56,
   "metadata": {},
   "outputs": [
    {
     "name": "stdout",
     "output_type": "stream",
     "text": [
      "메모리 사용량: 1.50 MB\n"
     ]
    },
    {
     "data": {
      "text/html": [
       "<div>\n",
       "<style scoped>\n",
       "    .dataframe tbody tr th:only-of-type {\n",
       "        vertical-align: middle;\n",
       "    }\n",
       "\n",
       "    .dataframe tbody tr th {\n",
       "        vertical-align: top;\n",
       "    }\n",
       "\n",
       "    .dataframe thead th {\n",
       "        text-align: right;\n",
       "    }\n",
       "</style>\n",
       "<table border=\"1\" class=\"dataframe\">\n",
       "  <thead>\n",
       "    <tr style=\"text-align: right;\">\n",
       "      <th></th>\n",
       "      <th>Query</th>\n",
       "      <th>k</th>\n",
       "      <th>Hit Rate</th>\n",
       "      <th>MRR</th>\n",
       "    </tr>\n",
       "  </thead>\n",
       "  <tbody>\n",
       "    <tr>\n",
       "      <th>60</th>\n",
       "      <td>Average</td>\n",
       "      <td>1</td>\n",
       "      <td>0.333333</td>\n",
       "      <td>0.333333</td>\n",
       "    </tr>\n",
       "    <tr>\n",
       "      <th>61</th>\n",
       "      <td>Average</td>\n",
       "      <td>2</td>\n",
       "      <td>0.533333</td>\n",
       "      <td>0.433333</td>\n",
       "    </tr>\n",
       "    <tr>\n",
       "      <th>62</th>\n",
       "      <td>Average</td>\n",
       "      <td>3</td>\n",
       "      <td>0.666667</td>\n",
       "      <td>0.477778</td>\n",
       "    </tr>\n",
       "    <tr>\n",
       "      <th>63</th>\n",
       "      <td>Average</td>\n",
       "      <td>4</td>\n",
       "      <td>0.733333</td>\n",
       "      <td>0.494444</td>\n",
       "    </tr>\n",
       "  </tbody>\n",
       "</table>\n",
       "</div>"
      ],
      "text/plain": [
       "      Query  k  Hit Rate       MRR\n",
       "60  Average  1  0.333333  0.333333\n",
       "61  Average  2  0.533333  0.433333\n",
       "62  Average  3  0.666667  0.477778\n",
       "63  Average  4  0.733333  0.494444"
      ]
     },
     "execution_count": 56,
     "metadata": {},
     "output_type": "execute_result"
    }
   ],
   "source": [
    "results_faiss, performance_faiss = run_benchmark(faiss_db, queries, actual_docs)\n",
    "\n",
    "results_faiss.tail(4)"
   ]
  },
  {
   "cell_type": "code",
   "execution_count": 57,
   "metadata": {},
   "outputs": [
    {
     "data": {
      "text/html": [
       "<div>\n",
       "<style scoped>\n",
       "    .dataframe tbody tr th:only-of-type {\n",
       "        vertical-align: middle;\n",
       "    }\n",
       "\n",
       "    .dataframe tbody tr th {\n",
       "        vertical-align: top;\n",
       "    }\n",
       "\n",
       "    .dataframe thead th {\n",
       "        text-align: right;\n",
       "    }\n",
       "</style>\n",
       "<table border=\"1\" class=\"dataframe\">\n",
       "  <thead>\n",
       "    <tr style=\"text-align: right;\">\n",
       "      <th></th>\n",
       "      <th>Metric</th>\n",
       "      <th>Value</th>\n",
       "    </tr>\n",
       "  </thead>\n",
       "  <tbody>\n",
       "    <tr>\n",
       "      <th>0</th>\n",
       "      <td>Average Query Time</td>\n",
       "      <td>0.296089</td>\n",
       "    </tr>\n",
       "    <tr>\n",
       "      <th>1</th>\n",
       "      <td>Queries per Second</td>\n",
       "      <td>3.377367</td>\n",
       "    </tr>\n",
       "  </tbody>\n",
       "</table>\n",
       "</div>"
      ],
      "text/plain": [
       "               Metric     Value\n",
       "0  Average Query Time  0.296089\n",
       "1  Queries per Second  3.377367"
      ]
     },
     "execution_count": 57,
     "metadata": {},
     "output_type": "execute_result"
    }
   ],
   "source": [
    "performance_faiss"
   ]
  },
  {
   "cell_type": "code",
   "execution_count": 58,
   "metadata": {},
   "outputs": [
    {
     "name": "stdout",
     "output_type": "stream",
     "text": [
      "메모리 사용량: 7.59 MB\n"
     ]
    },
    {
     "data": {
      "text/html": [
       "<div>\n",
       "<style scoped>\n",
       "    .dataframe tbody tr th:only-of-type {\n",
       "        vertical-align: middle;\n",
       "    }\n",
       "\n",
       "    .dataframe tbody tr th {\n",
       "        vertical-align: top;\n",
       "    }\n",
       "\n",
       "    .dataframe thead th {\n",
       "        text-align: right;\n",
       "    }\n",
       "</style>\n",
       "<table border=\"1\" class=\"dataframe\">\n",
       "  <thead>\n",
       "    <tr style=\"text-align: right;\">\n",
       "      <th></th>\n",
       "      <th>Query</th>\n",
       "      <th>k</th>\n",
       "      <th>Hit Rate</th>\n",
       "      <th>MRR</th>\n",
       "    </tr>\n",
       "  </thead>\n",
       "  <tbody>\n",
       "    <tr>\n",
       "      <th>60</th>\n",
       "      <td>Average</td>\n",
       "      <td>1</td>\n",
       "      <td>0.133333</td>\n",
       "      <td>0.133333</td>\n",
       "    </tr>\n",
       "    <tr>\n",
       "      <th>61</th>\n",
       "      <td>Average</td>\n",
       "      <td>2</td>\n",
       "      <td>0.200000</td>\n",
       "      <td>0.166667</td>\n",
       "    </tr>\n",
       "    <tr>\n",
       "      <th>62</th>\n",
       "      <td>Average</td>\n",
       "      <td>3</td>\n",
       "      <td>0.400000</td>\n",
       "      <td>0.233333</td>\n",
       "    </tr>\n",
       "    <tr>\n",
       "      <th>63</th>\n",
       "      <td>Average</td>\n",
       "      <td>4</td>\n",
       "      <td>0.466667</td>\n",
       "      <td>0.250000</td>\n",
       "    </tr>\n",
       "  </tbody>\n",
       "</table>\n",
       "</div>"
      ],
      "text/plain": [
       "      Query  k  Hit Rate       MRR\n",
       "60  Average  1  0.133333  0.133333\n",
       "61  Average  2  0.200000  0.166667\n",
       "62  Average  3  0.400000  0.233333\n",
       "63  Average  4  0.466667  0.250000"
      ]
     },
     "execution_count": 58,
     "metadata": {},
     "output_type": "execute_result"
    }
   ],
   "source": [
    "results_weaviate, performance_weaviate = run_benchmark(weaviate_db, queries, actual_docs)\n",
    "\n",
    "results_weaviate.tail(4)"
   ]
  },
  {
   "cell_type": "code",
   "execution_count": 59,
   "metadata": {},
   "outputs": [
    {
     "data": {
      "text/html": [
       "<div>\n",
       "<style scoped>\n",
       "    .dataframe tbody tr th:only-of-type {\n",
       "        vertical-align: middle;\n",
       "    }\n",
       "\n",
       "    .dataframe tbody tr th {\n",
       "        vertical-align: top;\n",
       "    }\n",
       "\n",
       "    .dataframe thead th {\n",
       "        text-align: right;\n",
       "    }\n",
       "</style>\n",
       "<table border=\"1\" class=\"dataframe\">\n",
       "  <thead>\n",
       "    <tr style=\"text-align: right;\">\n",
       "      <th></th>\n",
       "      <th>Metric</th>\n",
       "      <th>Value</th>\n",
       "    </tr>\n",
       "  </thead>\n",
       "  <tbody>\n",
       "    <tr>\n",
       "      <th>0</th>\n",
       "      <td>Average Query Time</td>\n",
       "      <td>0.035653</td>\n",
       "    </tr>\n",
       "    <tr>\n",
       "      <th>1</th>\n",
       "      <td>Queries per Second</td>\n",
       "      <td>28.048378</td>\n",
       "    </tr>\n",
       "  </tbody>\n",
       "</table>\n",
       "</div>"
      ],
      "text/plain": [
       "               Metric      Value\n",
       "0  Average Query Time   0.035653\n",
       "1  Queries per Second  28.048378"
      ]
     },
     "execution_count": 59,
     "metadata": {},
     "output_type": "execute_result"
    }
   ],
   "source": [
    "performance_weaviate"
   ]
  },
  {
   "cell_type": "code",
   "execution_count": 60,
   "metadata": {},
   "outputs": [
    {
     "data": {
      "text/html": [
       "<div>\n",
       "<style scoped>\n",
       "    .dataframe tbody tr th:only-of-type {\n",
       "        vertical-align: middle;\n",
       "    }\n",
       "\n",
       "    .dataframe tbody tr th {\n",
       "        vertical-align: top;\n",
       "    }\n",
       "\n",
       "    .dataframe thead th {\n",
       "        text-align: right;\n",
       "    }\n",
       "</style>\n",
       "<table border=\"1\" class=\"dataframe\">\n",
       "  <thead>\n",
       "    <tr style=\"text-align: right;\">\n",
       "      <th></th>\n",
       "      <th>Chroma</th>\n",
       "      <th>FAISS</th>\n",
       "      <th>Weaviate</th>\n",
       "    </tr>\n",
       "    <tr>\n",
       "      <th>Metric</th>\n",
       "      <th></th>\n",
       "      <th></th>\n",
       "      <th></th>\n",
       "    </tr>\n",
       "  </thead>\n",
       "  <tbody>\n",
       "    <tr>\n",
       "      <th>Average Query Time</th>\n",
       "      <td>0.301781</td>\n",
       "      <td>0.296089</td>\n",
       "      <td>0.035653</td>\n",
       "    </tr>\n",
       "    <tr>\n",
       "      <th>Queries per Second</th>\n",
       "      <td>3.313666</td>\n",
       "      <td>3.377367</td>\n",
       "      <td>28.048378</td>\n",
       "    </tr>\n",
       "  </tbody>\n",
       "</table>\n",
       "</div>"
      ],
      "text/plain": [
       "                      Chroma     FAISS   Weaviate\n",
       "Metric                                           \n",
       "Average Query Time  0.301781  0.296089   0.035653\n",
       "Queries per Second  3.313666  3.377367  28.048378"
      ]
     },
     "execution_count": 60,
     "metadata": {},
     "output_type": "execute_result"
    }
   ],
   "source": [
    "# performance 결과를 종합\n",
    "\n",
    "import matplotlib.pyplot as plt\n",
    "\n",
    "performance_results = pd.concat([performance_chroma.set_index('Metric'), performance_faiss.set_index('Metric'), performance_weaviate.set_index('Metric')], axis=1)\n",
    "performance_results.columns = ['Chroma', 'FAISS', 'Weaviate']\n",
    "\n",
    "performance_results\n"
   ]
  },
  {
   "cell_type": "code",
   "execution_count": 70,
   "metadata": {},
   "outputs": [
    {
     "data": {
      "image/png": "[encoded data removed]",
      "text/plain": [
       "<Figure size 1000x300 with 2 Axes>"
      ]
     },
     "metadata": {},
     "output_type": "display_data"
    }
   ],
   "source": [
    "# 성능 메트릭 시각화\n",
    "plt.subplot(1, 2, 1)\n",
    "performance_results.loc['Average Query Time'].plot(kind='bar', figsize=(10, 3))\n",
    "plt.title('Average Query Time')\n",
    "plt.ylabel('Time (s)')\n",
    "\n",
    "plt.subplot(1, 2, 2)\n",
    "performance_results.loc['Queries per Second'].plot(kind='bar', figsize=(10, 3))\n",
    "plt.title('Queries per Second')\n",
    "plt.ylabel('Queries')\n",
    "\n",
    "plt.tight_layout()\n",
    "plt.show()\n"
   ]
  },
  {
   "cell_type": "code",
   "execution_count": null,
   "metadata": {},
   "outputs": [],
   "source": []
  }
 ],
 "metadata": {
  "kernelspec": {
   "display_name": "langchian_basic",
   "language": "python",
   "name": "python3"
  },
  "language_info": {
   "codemirror_mode": {
    "name": "ipython",
    "version": 3
   },
   "file_extension": ".py",
   "mimetype": "text/x-python",
   "name": "python",
   "nbconvert_exporter": "python",
   "pygments_lexer": "ipython3",
   "version": "3.11.9"
  }
 },
 "nbformat": 4,
 "nbformat_minor": 2
}
